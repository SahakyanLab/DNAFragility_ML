{
 "cells": [
  {
   "cell_type": "markdown",
   "id": "2583e771",
   "metadata": {},
   "source": [
    "https://github.com/onceupon/deep_learning_DNA/blob/master/learnseq.ipynb"
   ]
  },
  {
   "cell_type": "code",
   "execution_count": 1,
   "id": "b7d20ec1",
   "metadata": {},
   "outputs": [],
   "source": [
    "import numpy as np\n",
    "import os\n",
    "import tensorflow as tf\n",
    "import sys\n",
    "import re\n",
    "import random\n",
    "#========================= Model ==============================================\n",
    "from keras.models import Sequential\n",
    "from keras.layers.core import Dense, Activation, Flatten, Dropout\n",
    "from keras.callbacks import EarlyStopping\n",
    "from tensorflow.keras.optimizers import RMSprop\n",
    "from keras.layers import Conv1D, MaxPooling1D\n",
    "from tensorflow.keras.optimizers import SGD\n",
    "from sklearn.metrics import roc_curve, auc\n",
    "import matplotlib.pyplot as plt"
   ]
  },
  {
   "cell_type": "markdown",
   "id": "f763281c",
   "metadata": {},
   "source": [
    "# Training Process"
   ]
  },
  {
   "cell_type": "code",
   "execution_count": 2,
   "id": "210d8668",
   "metadata": {},
   "outputs": [],
   "source": [
    "# Read labels\n",
    "f = open('./label_train.txt', \"r\")\n",
    "train_line = f.readlines()\n",
    "train_line.pop(0)\n",
    "f.close()\n",
    "\n",
    "train_lines = []\n",
    "for i in range(len(train_line)):\n",
    "    train_lines.append(train_line[i][:-1])\n",
    "    \n",
    "y_train = np.zeros((len(train_lines),2))\n",
    "for i in range(len(train_lines)):\n",
    "    y_train[i, int(train_lines[i].rstrip())] = 1"
   ]
  },
  {
   "cell_type": "code",
   "execution_count": 3,
   "id": "46717bac",
   "metadata": {},
   "outputs": [],
   "source": [
    "# Read sequence files\n",
    "f = open('./sequences_train.txt', \"r\")\n",
    "train_line = f.readlines()\n",
    "train_line.pop(0)\n",
    "f.close()\n",
    "\n",
    "train_lines = []\n",
    "for i in range(len(train_line)):\n",
    "    train_lines.append(train_line[i][:-1])"
   ]
  },
  {
   "cell_type": "code",
   "execution_count": 4,
   "id": "2f69252d",
   "metadata": {},
   "outputs": [],
   "source": [
    "# Progress bar\n",
    "from tqdm import tqdm"
   ]
  },
  {
   "cell_type": "code",
   "execution_count": 5,
   "id": "2d47928e",
   "metadata": {},
   "outputs": [
    {
     "name": "stderr",
     "output_type": "stream",
     "text": [
      "100%|██████████| 571828/571828 [01:49<00:00, 5212.33it/s]\n"
     ]
    }
   ],
   "source": [
    "#Convert sequences into one-hot matrix\n",
    "def DNA_matrix(seq):\n",
    "    tem2 = ['[aA]','[cC]','[gG]','[tT]']\n",
    "    for i in range(len(tem2)):\n",
    "        ind = [m.start() for m in re.finditer(tem2[i], seq)]\n",
    "        tem = np.zeros(len(seq),dtype=np.int)\n",
    "        tem[ind] = 1\n",
    "        if i==0:\n",
    "            a = np.zeros((len(seq),4))\n",
    "        a[...,i] = tem\n",
    "    return a\n",
    "\n",
    "for i in tqdm(range(len(train_lines))):\n",
    "    tem = train_lines[i].rstrip()\n",
    "    if i==0:\n",
    "        x_train = np.zeros((len(train_lines),len(tem),4))\n",
    "    x_train[i,] = DNA_matrix(tem)"
   ]
  },
  {
   "cell_type": "code",
   "execution_count": 6,
   "id": "58d5f7f7",
   "metadata": {},
   "outputs": [],
   "source": [
    "x_train = x_train.astype('float32')"
   ]
  },
  {
   "cell_type": "code",
   "execution_count": 7,
   "id": "04397f1c",
   "metadata": {
    "scrolled": false
   },
   "outputs": [
    {
     "name": "stdout",
     "output_type": "stream",
     "text": [
      "Epoch 1/20\n",
      "35740/35740 [==============================] - 165s 4ms/step - loss: 0.3711 - accuracy: 0.8336\n",
      "Epoch 2/20\n",
      "35740/35740 [==============================] - 152s 4ms/step - loss: 0.2916 - accuracy: 0.8728\n",
      "Epoch 3/20\n",
      "35740/35740 [==============================] - 155s 4ms/step - loss: 0.2751 - accuracy: 0.8808\n",
      "Epoch 4/20\n",
      "35740/35740 [==============================] - 154s 4ms/step - loss: 0.2682 - accuracy: 0.8850\n",
      "Epoch 5/20\n",
      "35740/35740 [==============================] - 157s 4ms/step - loss: 0.2618 - accuracy: 0.8888\n",
      "Epoch 6/20\n",
      "35740/35740 [==============================] - 158s 4ms/step - loss: 0.2546 - accuracy: 0.8915\n",
      "Epoch 7/20\n",
      "35740/35740 [==============================] - 159s 4ms/step - loss: 0.2492 - accuracy: 0.8943\n",
      "Epoch 8/20\n",
      "35740/35740 [==============================] - 160s 4ms/step - loss: 0.2460 - accuracy: 0.8958\n",
      "Epoch 9/20\n",
      "35740/35740 [==============================] - 161s 4ms/step - loss: 0.2414 - accuracy: 0.8978\n",
      "Epoch 10/20\n",
      "35740/35740 [==============================] - 158s 4ms/step - loss: 0.2377 - accuracy: 0.8997\n",
      "Epoch 11/20\n",
      "35740/35740 [==============================] - 159s 4ms/step - loss: 0.2353 - accuracy: 0.9004\n",
      "Epoch 12/20\n",
      "35740/35740 [==============================] - 160s 4ms/step - loss: 0.2340 - accuracy: 0.9011\n",
      "Epoch 13/20\n",
      "35740/35740 [==============================] - 162s 5ms/step - loss: 0.2318 - accuracy: 0.9019\n",
      "Epoch 14/20\n",
      "35740/35740 [==============================] - 162s 5ms/step - loss: 0.2301 - accuracy: 0.9027\n",
      "Epoch 15/20\n",
      "35740/35740 [==============================] - 160s 4ms/step - loss: 0.2285 - accuracy: 0.9033\n",
      "Epoch 16/20\n",
      "35740/35740 [==============================] - 162s 5ms/step - loss: 0.2285 - accuracy: 0.9031\n",
      "Epoch 17/20\n",
      "35740/35740 [==============================] - 176s 5ms/step - loss: 0.2277 - accuracy: 0.9037\n",
      "Epoch 18/20\n",
      "35740/35740 [==============================] - 170s 5ms/step - loss: 0.2245 - accuracy: 0.9049\n",
      "Epoch 19/20\n",
      "35740/35740 [==============================] - 168s 5ms/step - loss: 0.2255 - accuracy: 0.9046\n",
      "Epoch 20/20\n",
      "35740/35740 [==============================] - 173s 5ms/step - loss: 0.2250 - accuracy: 0.9039\n",
      "{'loss': [0.3282950818538666, 0.2896503210067749, 0.2771974205970764, 0.269905149936676, 0.2629977762699127, 0.2568199932575226, 0.25251856446266174, 0.24787604808807373, 0.24478358030319214, 0.2414800375699997, 0.23919089138507843, 0.2365713268518448, 0.2353697270154953, 0.23352693021297455, 0.231716588139534, 0.2314813733100891, 0.2302631288766861, 0.22947366535663605, 0.2282620519399643, 0.22860103845596313], 'accuracy': [0.8559304475784302, 0.8737102746963501, 0.8796911239624023, 0.8842344284057617, 0.887702226638794, 0.8902904391288757, 0.8926792740821838, 0.8950104117393494, 0.895924985408783, 0.8976213335990906, 0.8989695906639099, 0.9000521302223206, 0.9003704190254211, 0.9012762308120728, 0.9018358588218689, 0.9021925926208496, 0.9030635356903076, 0.9029533267021179, 0.9033817648887634, 0.9029585719108582]}\n"
     ]
    }
   ],
   "source": [
    "model=Sequential()\n",
    "model.add(Conv1D(filters=20,kernel_size=10,strides=1,padding='valid',input_shape=(589,4), activation='relu'))\n",
    "model.add(MaxPooling1D(pool_size=10, strides=5, padding='same'))\n",
    "model.add(Flatten())\n",
    "model.add(Dense(128, activation='relu'))\n",
    "model.add(Dropout(0.5))\n",
    "model.add(Dense(2, activation='softmax'))\n",
    "model.compile(optimizer='adam', loss='categorical_crossentropy', metrics=['accuracy'])\n",
    "early_stopping = EarlyStopping(monitor='loss', patience=2, mode='min')\n",
    "history = model.fit(\n",
    "    x_train, \n",
    "    y_train, \n",
    "    batch_size=16, \n",
    "    epochs=20, \n",
    "    verbose=1, \n",
    "    validation_data=None,\n",
    "    callbacks=[early_stopping]\n",
    ")\n",
    "\n",
    "print(history.history)"
   ]
  },
  {
   "cell_type": "markdown",
   "id": "090f05a2",
   "metadata": {},
   "source": [
    "# Testing / Evaluation"
   ]
  },
  {
   "cell_type": "code",
   "execution_count": 8,
   "id": "0bf5bdd7",
   "metadata": {},
   "outputs": [],
   "source": [
    "# Read labels\n",
    "f = open('./label_test.txt', \"r\")\n",
    "test_line = f.readlines()\n",
    "test_line.pop(0)\n",
    "f.close()\n",
    "\n",
    "test_lines = []\n",
    "for i in range(len(test_line)):\n",
    "    test_lines.append(test_line[i][:-1])\n",
    "    \n",
    "y_test = np.zeros((len(test_lines),2))\n",
    "for i in range(len(test_lines)):\n",
    "    y_test[i, int(test_lines[i].rstrip())] = 1"
   ]
  },
  {
   "cell_type": "code",
   "execution_count": 9,
   "id": "8cb1eecc",
   "metadata": {},
   "outputs": [],
   "source": [
    "# Read sequence files\n",
    "f = open('./sequences_test.txt', \"r\")\n",
    "test_line = f.readlines()\n",
    "test_line.pop(0)\n",
    "f.close()\n",
    "\n",
    "test_lines = []\n",
    "for i in range(len(test_line)):\n",
    "    test_lines.append(test_line[i][:-1])"
   ]
  },
  {
   "cell_type": "code",
   "execution_count": 10,
   "id": "e7d8be9c",
   "metadata": {},
   "outputs": [
    {
     "name": "stderr",
     "output_type": "stream",
     "text": [
      "100%|██████████| 245068/245068 [00:49<00:00, 4932.83it/s]\n"
     ]
    }
   ],
   "source": [
    "#Convert sequences into one-hot matrix\n",
    "def DNA_matrix(seq):\n",
    "    tem2 = ['[aA]','[cC]','[gG]','[tT]']\n",
    "    for i in range(len(tem2)):\n",
    "        ind = [m.start() for m in re.finditer(tem2[i], seq)]\n",
    "        tem = np.zeros(len(seq),dtype=np.int)\n",
    "        tem[ind] = 1\n",
    "        if i==0:\n",
    "            a = np.zeros((len(seq),4))\n",
    "        a[...,i] = tem\n",
    "    return a\n",
    "\n",
    "for i in tqdm(range(len(test_lines))):\n",
    "    tem = test_lines[i].rstrip()\n",
    "    if i==0:\n",
    "        x_test = np.zeros((len(test_lines),len(tem),4))\n",
    "    x_test[i,] = DNA_matrix(tem)"
   ]
  },
  {
   "cell_type": "code",
   "execution_count": 11,
   "id": "411baa5a",
   "metadata": {},
   "outputs": [],
   "source": [
    "x_test = x_test.astype('float32')"
   ]
  },
  {
   "cell_type": "code",
   "execution_count": 12,
   "id": "00d665db",
   "metadata": {},
   "outputs": [
    {
     "name": "stdout",
     "output_type": "stream",
     "text": [
      "7659/7659 [==============================] - 10s 1ms/step - loss: 0.2606 - accuracy: 0.8958\n",
      "Testing loss: 0.260602205991745, acc: 0.8957921862602234\n"
     ]
    }
   ],
   "source": [
    "# Model evaluation\n",
    "y_score = model.predict(x_test)\n",
    "loss, acc = model.evaluate(x_test, y_test, verbose=1)\n",
    "print(f'Testing loss: {loss}, acc: {acc}')"
   ]
  }
 ],
 "metadata": {
  "kernelspec": {
   "display_name": "Python 3",
   "language": "python",
   "name": "python3"
  },
  "language_info": {
   "codemirror_mode": {
    "name": "ipython",
    "version": 3
   },
   "file_extension": ".py",
   "mimetype": "text/x-python",
   "name": "python",
   "nbconvert_exporter": "python",
   "pygments_lexer": "ipython3",
   "version": "3.8.5"
  }
 },
 "nbformat": 4,
 "nbformat_minor": 5
}
