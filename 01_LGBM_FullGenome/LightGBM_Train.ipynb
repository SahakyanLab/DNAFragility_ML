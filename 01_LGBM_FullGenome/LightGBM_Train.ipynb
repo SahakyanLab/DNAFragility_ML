{
 "cells": [
  {
   "cell_type": "code",
   "execution_count": 1,
   "metadata": {},
   "outputs": [
    {
     "name": "stderr",
     "output_type": "stream",
     "text": [
      "/home/imm/hert6114/anaconda3/lib/python3.9/site-packages/scipy/__init__.py:146: UserWarning: A NumPy version >=1.16.5 and <1.23.0 is required for this version of SciPy (detected version 1.26.3\n",
      "  warnings.warn(f\"A NumPy version >={np_minversion} and <{np_maxversion}\"\n"
     ]
    }
   ],
   "source": [
    "import pandas as pd\n",
    "import numpy as np\n",
    "from gerrychain.random import random\n",
    "\n",
    "import lightgbm as lgb\n",
    "\n",
    "from sklearn.model_selection import StratifiedKFold, train_test_split\n",
    "from sklearn.metrics import roc_curve, auc, accuracy_score, roc_auc_score\n",
    "\n",
    "import optuna\n",
    "from optuna.samplers import TPESampler\n",
    "\n",
    "import matplotlib.pyplot as plt\n",
    "import seaborn as sns\n",
    "\n",
    "import warnings\n",
    "warnings.filterwarnings('ignore')\n",
    "\n",
    "from sklearn.exceptions import ConvergenceWarning\n",
    "warnings.filterwarnings(action='ignore', category=ConvergenceWarning)"
   ]
  },
  {
   "cell_type": "code",
   "execution_count": 2,
   "metadata": {},
   "outputs": [],
   "source": [
    "!export PYTHONHASHSEED=0"
   ]
  },
  {
   "cell_type": "code",
   "execution_count": 3,
   "metadata": {},
   "outputs": [],
   "source": [
    "def get_data(filename, to_numpy=True):\n",
    "    df = pd.read_parquet(\n",
    "        f'../data/models/python/lightgbm/{filename}.parquet', \n",
    "        use_threads=True\n",
    "    )\n",
    "            \n",
    "    target_col = 'predictor'\n",
    "    features = [col for col in df.columns if col != target_col]\n",
    "    \n",
    "    y = df[target_col].map({'YES': 1, 'NO': 0})\n",
    "    X = df[features]\n",
    "    \n",
    "    if to_numpy:\n",
    "        y = y.to_numpy(dtype=np.float32)\n",
    "        X = X.to_numpy(dtype=np.float32)\n",
    "    \n",
    "    return X, y, features"
   ]
  },
  {
   "cell_type": "code",
   "execution_count": 4,
   "metadata": {},
   "outputs": [],
   "source": [
    "bw = 1\n",
    "cpu = 4\n",
    "seed = 1234\n",
    "n_trials = 100\n",
    "n_train_iter = n_trials * 4"
   ]
  },
  {
   "cell_type": "code",
   "execution_count": 5,
   "metadata": {},
   "outputs": [],
   "source": [
    "np.random.seed(seed)\n",
    "random.seed(seed)"
   ]
  },
  {
   "cell_type": "code",
   "execution_count": 6,
   "metadata": {},
   "outputs": [],
   "source": [
    "def objective(trial):\n",
    "    try:\n",
    "        X, y, _ = get_data(filename='train', to_numpy = True)\n",
    "        \n",
    "        params = {\n",
    "            \"objective\": \"binary\",\n",
    "            \"metric\": \"binary_logloss\",\n",
    "            \"verbosity\": -1,\n",
    "            \"boosting_type\": \"gbdt\",\n",
    "            \"device\": \"gpu\",\n",
    "            \"num_threads\": cpu,\n",
    "            \"reg_alpha\": trial.suggest_float(\"reg_alpha\", 1e-8, 10.0, log=True),\n",
    "            \"reg_lambda\": trial.suggest_float(\"reg_lambda\", 1e-8, 10.0, log=True),\n",
    "            \"num_leaves\": trial.suggest_int(\"num_leaves\", 2, 100),\n",
    "            \"learning_rate\": trial.suggest_float(\"learning_rate\", 0.001, 0.1),\n",
    "            \"n_estimators\": trial.suggest_int(\"n_estimators\", 1000, 10000),\n",
    "            \"colsample_bytree\": trial.suggest_float(\"colsample_bytree\", 0.1, 1.0),\n",
    "            \"subsample\": trial.suggest_float(\"subsample\", 0.1, 1.0)\n",
    "        }\n",
    "    \n",
    "        kf = StratifiedKFold(n_splits=3, shuffle=True, random_state=seed)\n",
    "        aurocs = []\n",
    "        \n",
    "        for train_idx, valid_idx in kf.split(X, y):\n",
    "            X_train, X_valid = X[train_idx], X[valid_idx]\n",
    "            y_train, y_valid = y[train_idx], y[valid_idx]\n",
    "                        \n",
    "            model = lgb.LGBMClassifier()\n",
    "            model.set_params(**params)\n",
    "            model.fit(X_train, y_train)\n",
    "            y_probs = model.predict_proba(X_valid)[:, 1]\n",
    "            \n",
    "            fpr, tpr, _ = roc_curve(y_valid, y_probs)\n",
    "            auroc = auc(fpr, tpr)\n",
    "            aurocs.append(auroc)\n",
    "        \n",
    "        return np.mean(aurocs)\n",
    "    \n",
    "    except lgb.basic.LightGBMError as e:\n",
    "        return -np.inf"
   ]
  },
  {
   "cell_type": "code",
   "execution_count": 7,
   "metadata": {},
   "outputs": [
    {
     "name": "stderr",
     "output_type": "stream",
     "text": [
      "[I 2024-01-28 00:11:31,227] A new study created in memory with name: no-name-2e2dbcc3-90f6-4d25-b46a-81a313775033\n",
      "[I 2024-01-28 01:00:23,546] Trial 0 finished with value: 0.8217245780770127 and parameters: {'reg_alpha': 5.292672888299455e-07, 'reg_lambda': 0.003971722885615567, 'num_leaves': 45, 'learning_rate': 0.07875049978766316, 'n_estimators': 8020, 'colsample_bytree': 0.3453333447543775, 'subsample': 0.34881782962878705}. Best is trial 0 with value: 0.8217245780770127.\n",
      "[I 2024-01-28 01:23:46,291] Trial 1 finished with value: 0.810988214532133 and parameters: {'reg_alpha': 0.16475917089206663, 'reg_lambda': 4.20004731740671, 'num_leaves': 88, 'learning_rate': 0.036423909725828804, 'n_estimators': 5509, 'colsample_bytree': 0.7151166416549226, 'subsample': 0.7414318242846102}. Best is trial 0 with value: 0.8217245780770127.\n",
      "[I 2024-01-28 02:04:47,577] Trial 2 finished with value: 0.7364992850537702 and parameters: {'reg_alpha': 2.1491008360435867e-05, 'reg_lambda': 0.0011239983523033718, 'num_leaves': 51, 'learning_rate': 0.002363076509477542, 'n_estimators': 7956, 'colsample_bytree': 0.8943770715725049, 'subsample': 0.4283973855112351}. Best is trial 0 with value: 0.8217245780770127.\n",
      "[I 2024-01-28 02:38:23,111] Trial 3 finished with value: 0.8155200041246289 and parameters: {'reg_alpha': 0.0034559353208953327, 'reg_lambda': 4.769042302984104e-08, 'num_leaves': 38, 'learning_rate': 0.09338087009626965, 'n_estimators': 6863, 'colsample_bytree': 0.45748231995353883, 'subsample': 0.8098571286466709}. Best is trial 0 with value: 0.8217245780770127.\n",
      "[I 2024-01-28 03:16:38,762] Trial 4 finished with value: 0.8281989797846566 and parameters: {'reg_alpha': 7.104362276117115e-06, 'reg_lambda': 0.0012968444078239212, 'num_leaves': 88, 'learning_rate': 0.04418116896567226, 'n_estimators': 8220, 'colsample_bytree': 0.22939014206310812, 'subsample': 0.7338348740065018}. Best is trial 4 with value: 0.8281989797846566.\n",
      "[I 2024-01-28 03:55:16,227] Trial 5 finished with value: 0.8309228032691737 and parameters: {'reg_alpha': 0.0219397550092062, 'reg_lambda': 9.313843818151601e-07, 'num_leaves': 93, 'learning_rate': 0.04477193478501349, 'n_estimators': 9184, 'colsample_bytree': 0.15382830050186672, 'subsample': 0.2658583754324323}. Best is trial 5 with value: 0.8309228032691737.\n",
      "[I 2024-01-28 04:03:03,010] Trial 6 finished with value: 0.7621743487206384 and parameters: {'reg_alpha': 2.6680717790583398e-08, 'reg_lambda': 0.011855735242137483, 'num_leaves': 60, 'learning_rate': 0.05379770613687631, 'n_estimators': 1389, 'colsample_bytree': 0.605289772057058, 'subsample': 0.39670160105882357}. Best is trial 5 with value: 0.8309228032691737.\n",
      "[I 2024-01-28 04:08:36,950] Trial 7 finished with value: 0.7581279134201347 and parameters: {'reg_alpha': 0.00033628035561785607, 'reg_lambda': 1.0163630273744277e-07, 'num_leaves': 62, 'learning_rate': 0.05702851966200261, 'n_estimators': 1060, 'colsample_bytree': 0.6556975379238673, 'subsample': 0.9209105977898389}. Best is trial 5 with value: 0.8309228032691737.\n",
      "[I 2024-01-28 04:24:37,356] Trial 8 finished with value: 0.8226365994813801 and parameters: {'reg_alpha': 0.13023184627242293, 'reg_lambda': 8.48658950043472, 'num_leaves': 96, 'learning_rate': 0.07940444939387234, 'n_estimators': 3567, 'colsample_bytree': 0.6624250347753199, 'subsample': 0.5302844161036071}. Best is trial 5 with value: 0.8309228032691737.\n",
      "[I 2024-01-28 04:57:01,292] Trial 9 finished with value: 0.7463163305064723 and parameters: {'reg_alpha': 5.768682119070024e-07, 'reg_lambda': 2.759669465196982e-05, 'num_leaves': 7, 'learning_rate': 0.04571319241782505, 'n_estimators': 9839, 'colsample_bytree': 0.2115484304382667, 'subsample': 0.20744280813362356}. Best is trial 5 with value: 0.8309228032691737.\n",
      "[I 2024-01-28 05:40:07,354] Trial 10 finished with value: 0.7979833375174187 and parameters: {'reg_alpha': 2.8283430786693358, 'reg_lambda': 3.613545332540668e-06, 'num_leaves': 75, 'learning_rate': 0.023133503970621513, 'n_estimators': 9910, 'colsample_bytree': 0.12250620290725966, 'subsample': 0.13114129239613057}. Best is trial 5 with value: 0.8309228032691737.\n",
      "[I 2024-01-28 06:13:44,173] Trial 11 finished with value: 0.8140797291358856 and parameters: {'reg_alpha': 0.0010927187505019728, 'reg_lambda': 4.320748477413763e-06, 'num_leaves': 99, 'learning_rate': 0.03406771890855828, 'n_estimators': 8138, 'colsample_bytree': 0.10346693708523705, 'subsample': 0.6452479944832854}. Best is trial 5 with value: 0.8309228032691737.\n",
      "[I 2024-01-28 06:44:48,203] Trial 12 finished with value: 0.8263830471621799 and parameters: {'reg_alpha': 1.0053936887425667e-05, 'reg_lambda': 9.871260805362392e-05, 'num_leaves': 79, 'learning_rate': 0.0619794174403783, 'n_estimators': 6353, 'colsample_bytree': 0.29290647948472825, 'subsample': 0.995890246871002}. Best is trial 5 with value: 0.8309228032691737.\n",
      "[I 2024-01-28 07:34:11,902] Trial 13 finished with value: 0.8029556325844248 and parameters: {'reg_alpha': 0.009791118030276814, 'reg_lambda': 1.2038740819599356e-06, 'num_leaves': 79, 'learning_rate': 0.021215448861276076, 'n_estimators': 8836, 'colsample_bytree': 0.4044574491858398, 'subsample': 0.5899159287761994}. Best is trial 5 with value: 0.8309228032691737.\n",
      "[I 2024-01-28 07:55:11,204] Trial 14 finished with value: 0.7666162600601746 and parameters: {'reg_alpha': 5.979270937819719e-05, 'reg_lambda': 1.4593424407438251e-08, 'num_leaves': 32, 'learning_rate': 0.043950993311427336, 'n_estimators': 4379, 'colsample_bytree': 0.25085302586993546, 'subsample': 0.25153960523478713}. Best is trial 5 with value: 0.8309228032691737.\n",
      "[I 2024-01-28 08:26:55,691] Trial 15 finished with value: 0.8164266777194479 and parameters: {'reg_alpha': 0.016806033719464233, 'reg_lambda': 0.00016685183877015859, 'num_leaves': 67, 'learning_rate': 0.05938109025732467, 'n_estimators': 6608, 'colsample_bytree': 0.21045025039541504, 'subsample': 0.10225193881453998}. Best is trial 5 with value: 0.8309228032691737.\n",
      "[I 2024-01-28 09:21:23,455] Trial 16 finished with value: 0.8505614956589165 and parameters: {'reg_alpha': 0.0005390943551740956, 'reg_lambda': 0.06432431093651993, 'num_leaves': 88, 'learning_rate': 0.06547692182963585, 'n_estimators': 8958, 'colsample_bytree': 0.4783363669950895, 'subsample': 0.49566326699464347}. Best is trial 16 with value: 0.8505614956589165.\n",
      "[I 2024-01-28 10:09:32,318] Trial 17 finished with value: 0.7980972967588468 and parameters: {'reg_alpha': 0.0009486711345129256, 'reg_lambda': 0.06941542827854026, 'num_leaves': 24, 'learning_rate': 0.06898704944381857, 'n_estimators': 9182, 'colsample_bytree': 0.47237772153696783, 'subsample': 0.4863506556576459}. Best is trial 16 with value: 0.8505614956589165.\n",
      "[I 2024-01-28 10:54:37,865] Trial 18 finished with value: 0.8442313101574782 and parameters: {'reg_alpha': 0.00015384179027999527, 'reg_lambda': 0.10117875615897381, 'num_leaves': 88, 'learning_rate': 0.07029783438653477, 'n_estimators': 7151, 'colsample_bytree': 0.52770165474852, 'subsample': 0.33343305199058515}. Best is trial 16 with value: 0.8505614956589165.\n",
      "[I 2024-01-28 11:38:10,187] Trial 19 finished with value: 0.8459298682784041 and parameters: {'reg_alpha': 0.0001731046110931434, 'reg_lambda': 0.16973851891527345, 'num_leaves': 71, 'learning_rate': 0.0984574343372788, 'n_estimators': 7285, 'colsample_bytree': 0.5384432451122346, 'subsample': 0.3383769619582916}. Best is trial 16 with value: 0.8505614956589165.\n",
      "[I 2024-01-28 12:15:41,136] Trial 20 finished with value: 0.8324890786779493 and parameters: {'reg_alpha': 0.00011568263094293982, 'reg_lambda': 0.6324855469768279, 'num_leaves': 72, 'learning_rate': 0.09921124439172539, 'n_estimators': 5472, 'colsample_bytree': 0.37825422728250646, 'subsample': 0.4428095755382305}. Best is trial 16 with value: 0.8505614956589165.\n",
      "[I 2024-01-28 12:58:59,186] Trial 21 finished with value: 0.8476729525993766 and parameters: {'reg_alpha': 0.0002898766608152534, 'reg_lambda': 0.16205462407903726, 'num_leaves': 84, 'learning_rate': 0.08644944168702284, 'n_estimators': 7138, 'colsample_bytree': 0.5171356410206497, 'subsample': 0.31690793214502055}. Best is trial 16 with value: 0.8505614956589165.\n",
      "[I 2024-01-28 13:47:18,633] Trial 22 finished with value: 0.8469060258799832 and parameters: {'reg_alpha': 0.0007334611441667904, 'reg_lambda': 0.03863845698467788, 'num_leaves': 81, 'learning_rate': 0.08392809067147793, 'n_estimators': 7404, 'colsample_bytree': 0.5402830792452705, 'subsample': 0.34432144957570615}. Best is trial 16 with value: 0.8505614956589165.\n",
      "[I 2024-01-28 14:32:26,258] Trial 23 finished with value: 0.8344471661167635 and parameters: {'reg_alpha': 0.0016387419947521409, 'reg_lambda': 0.020745814301437453, 'num_leaves': 82, 'learning_rate': 0.0865445070524479, 'n_estimators': 5336, 'colsample_bytree': 0.4585905827653786, 'subsample': 0.5381902801029775}. Best is trial 16 with value: 0.8505614956589165.\n",
      "[I 2024-01-28 15:13:33,702] Trial 24 finished with value: 0.8298615501800491 and parameters: {'reg_alpha': 0.0005989248779833489, 'reg_lambda': 0.8602742376114967, 'num_leaves': 60, 'learning_rate': 0.0870453454042801, 'n_estimators': 6085, 'colsample_bytree': 0.5794627832317716, 'subsample': 0.4629681529276878}. Best is trial 16 with value: 0.8505614956589165.\n",
      "[I 2024-01-28 16:11:02,378] Trial 25 finished with value: 0.8534466867594607 and parameters: {'reg_alpha': 0.003756354015579501, 'reg_lambda': 0.02465405740574617, 'num_leaves': 100, 'learning_rate': 0.07279198518569151, 'n_estimators': 8773, 'colsample_bytree': 0.3398532591150735, 'subsample': 0.3835032593266945}. Best is trial 25 with value: 0.8534466867594607.\n",
      "[I 2024-01-28 17:08:32,588] Trial 26 finished with value: 0.8527121594700673 and parameters: {'reg_alpha': 0.0033402752965981325, 'reg_lambda': 0.010510755152830084, 'num_leaves': 100, 'learning_rate': 0.07074396359545003, 'n_estimators': 8705, 'colsample_bytree': 0.3556003893226085, 'subsample': 0.4014102707565882}. Best is trial 25 with value: 0.8534466867594607.\n",
      "[I 2024-01-28 18:02:49,692] Trial 27 finished with value: 0.8512838990630046 and parameters: {'reg_alpha': 0.0033290111922843727, 'reg_lambda': 0.007503426827206108, 'num_leaves': 98, 'learning_rate': 0.06907569265497499, 'n_estimators': 8809, 'colsample_bytree': 0.31998215171548794, 'subsample': 0.4020280530345687}. Best is trial 25 with value: 0.8534466867594607.\n",
      "[I 2024-01-28 18:57:56,586] Trial 28 finished with value: 0.8528950189943282 and parameters: {'reg_alpha': 0.005883213492286296, 'reg_lambda': 0.006332043236774812, 'num_leaves': 100, 'learning_rate': 0.07352048283540762, 'n_estimators': 8614, 'colsample_bytree': 0.32909969990238525, 'subsample': 0.4267152441135911}. Best is trial 25 with value: 0.8534466867594607.\n",
      "[I 2024-01-28 19:45:38,600] Trial 29 finished with value: 0.849454761646859 and parameters: {'reg_alpha': 0.10715705236937127, 'reg_lambda': 0.002393428435968121, 'num_leaves': 98, 'learning_rate': 0.07454248442545096, 'n_estimators': 7780, 'colsample_bytree': 0.35053671299965206, 'subsample': 0.3853959845272624}. Best is trial 25 with value: 0.8534466867594607.\n",
      "[I 2024-01-28 20:02:53,457] Trial 30 finished with value: 0.8019518600659947 and parameters: {'reg_alpha': 0.008485286908408515, 'reg_lambda': 0.004688225347647932, 'num_leaves': 92, 'learning_rate': 0.07689377106634745, 'n_estimators': 2435, 'colsample_bytree': 0.3934200150124608, 'subsample': 0.5938815375688948}. Best is trial 25 with value: 0.8534466867594607.\n",
      "[I 2024-01-28 20:55:39,622] Trial 31 finished with value: 0.851045255531298 and parameters: {'reg_alpha': 0.00348644042367344, 'reg_lambda': 0.00753655458998473, 'num_leaves': 100, 'learning_rate': 0.0700934672147175, 'n_estimators': 8614, 'colsample_bytree': 0.3086242389839214, 'subsample': 0.4003572370313134}. Best is trial 25 with value: 0.8534466867594607.\n",
      "[I 2024-01-28 21:52:03,506] Trial 32 finished with value: 0.8510703738165432 and parameters: {'reg_alpha': 0.03687583156367231, 'reg_lambda': 0.010432386767872179, 'num_leaves': 93, 'learning_rate': 0.0655121310771522, 'n_estimators': 9534, 'colsample_bytree': 0.31919954077426294, 'subsample': 0.44671669259488145}. Best is trial 25 with value: 0.8534466867594607.\n",
      "[I 2024-01-28 22:41:31,654] Trial 33 finished with value: 0.8510612660320916 and parameters: {'reg_alpha': 0.00396825939333872, 'reg_lambda': 0.000658040076974205, 'num_leaves': 100, 'learning_rate': 0.07567894142947239, 'n_estimators': 8368, 'colsample_bytree': 0.2831896429186592, 'subsample': 0.3901100474978391}. Best is trial 25 with value: 0.8534466867594607.\n",
      "[I 2024-01-28 23:31:02,256] Trial 34 finished with value: 0.8425563466649812 and parameters: {'reg_alpha': 0.5242289489514997, 'reg_lambda': 0.0033814627922410427, 'num_leaves': 92, 'learning_rate': 0.06220171531049065, 'n_estimators': 7658, 'colsample_bytree': 0.353212705247712, 'subsample': 0.2884473308091008}. Best is trial 25 with value: 0.8534466867594607.\n",
      "[I 2024-01-29 00:21:17,454] Trial 35 finished with value: 0.8274711677363288 and parameters: {'reg_alpha': 0.05079528586172471, 'reg_lambda': 0.0004937758236527707, 'num_leaves': 49, 'learning_rate': 0.0730126448617277, 'n_estimators': 8555, 'colsample_bytree': 0.4069393243565764, 'subsample': 0.42538494594687526}. Best is trial 25 with value: 0.8534466867594607.\n",
      "[I 2024-01-29 01:16:05,537] Trial 36 finished with value: 0.8522112210303209 and parameters: {'reg_alpha': 0.006357514765934392, 'reg_lambda': 0.0014332383454703904, 'num_leaves': 86, 'learning_rate': 0.08184388755831416, 'n_estimators': 9494, 'colsample_bytree': 0.266763872121778, 'subsample': 0.5027484516424205}. Best is trial 25 with value: 0.8534466867594607.\n",
      "[I 2024-01-29 02:05:32,697] Trial 37 finished with value: 0.8464210293478897 and parameters: {'reg_alpha': 0.01406673256944355, 'reg_lambda': 0.0015539382648895547, 'num_leaves': 85, 'learning_rate': 0.08267940118350235, 'n_estimators': 9443, 'colsample_bytree': 0.16745536758711707, 'subsample': 0.4979400209266546}. Best is trial 25 with value: 0.8534466867594607.\n",
      "[I 2024-01-29 03:06:07,214] Trial 38 finished with value: 0.8581744580294931 and parameters: {'reg_alpha': 0.4171470895683144, 'reg_lambda': 0.023256738138786093, 'num_leaves': 92, 'learning_rate': 0.09126997657286379, 'n_estimators': 9997, 'colsample_bytree': 0.2616302608065194, 'subsample': 0.36574175025502986}. Best is trial 38 with value: 0.8581744580294931.\n",
      "[I 2024-01-29 03:52:26,012] Trial 39 finished with value: 0.8497113503676648 and parameters: {'reg_alpha': 0.3140052829028454, 'reg_lambda': 0.036525214689911135, 'num_leaves': 93, 'learning_rate': 0.09381769144273903, 'n_estimators': 8001, 'colsample_bytree': 0.22786353068574117, 'subsample': 0.35141027267105507}. Best is trial 38 with value: 0.8581744580294931.\n",
      "[I 2024-01-29 04:47:38,280] Trial 40 finished with value: 0.8536063338262828 and parameters: {'reg_alpha': 0.9648352588391249, 'reg_lambda': 0.013631720479378674, 'num_leaves': 90, 'learning_rate': 0.09082232483080183, 'n_estimators': 9969, 'colsample_bytree': 0.18357233069513476, 'subsample': 0.23026536780634566}. Best is trial 38 with value: 0.8581744580294931.\n",
      "[I 2024-01-29 05:46:47,562] Trial 41 finished with value: 0.8516190663056826 and parameters: {'reg_alpha': 7.2891974578318015, 'reg_lambda': 0.018914396119213157, 'num_leaves': 91, 'learning_rate': 0.08971360754039534, 'n_estimators': 9924, 'colsample_bytree': 0.19639953093522863, 'subsample': 0.21781432107048204}. Best is trial 38 with value: 0.8581744580294931.\n",
      "[I 2024-01-29 06:45:07,742] Trial 42 finished with value: 0.8539908741624319 and parameters: {'reg_alpha': 0.7798001930215226, 'reg_lambda': 0.017506530048112846, 'num_leaves': 95, 'learning_rate': 0.0792425768845621, 'n_estimators': 9255, 'colsample_bytree': 0.2631198694191432, 'subsample': 0.28190060008801837}. Best is trial 38 with value: 0.8581744580294931.\n",
      "[I 2024-01-29 07:31:33,051] Trial 43 finished with value: 0.8413844273474861 and parameters: {'reg_alpha': 0.9727232631756169, 'reg_lambda': 0.003467109802472464, 'num_leaves': 76, 'learning_rate': 0.07929992175508668, 'n_estimators': 9340, 'colsample_bytree': 0.1492093792951805, 'subsample': 0.24557638130687223}. Best is trial 38 with value: 0.8581744580294931.\n",
      "[I 2024-01-29 08:26:39,059] Trial 44 finished with value: 0.8575637331860682 and parameters: {'reg_alpha': 1.4134789487021884, 'reg_lambda': 0.017725665257646444, 'num_leaves': 95, 'learning_rate': 0.0915698786315758, 'n_estimators': 9741, 'colsample_bytree': 0.25104543806345864, 'subsample': 0.2809211670154483}. Best is trial 38 with value: 0.8581744580294931.\n",
      "[I 2024-01-29 09:07:29,169] Trial 45 finished with value: 0.7598597626783947 and parameters: {'reg_alpha': 1.5537933977470035, 'reg_lambda': 0.2818404925262477, 'num_leaves': 7, 'learning_rate': 0.09282878732715544, 'n_estimators': 9926, 'colsample_bytree': 0.26153400816246963, 'subsample': 0.18310310646137845}. Best is trial 38 with value: 0.8581744580294931.\n",
      "[I 2024-01-29 09:54:51,078] Trial 46 finished with value: 0.8537441561014961 and parameters: {'reg_alpha': 0.23148843862028323, 'reg_lambda': 0.029129986902669096, 'num_leaves': 95, 'learning_rate': 0.09369499825895396, 'n_estimators': 9600, 'colsample_bytree': 0.17538570595846026, 'subsample': 0.29409536029759964}. Best is trial 38 with value: 0.8581744580294931.\n",
      "[I 2024-01-29 10:41:48,195] Trial 47 finished with value: 0.8524557460278391 and parameters: {'reg_alpha': 0.3029746260657636, 'reg_lambda': 1.7924487582690107, 'num_leaves': 90, 'learning_rate': 0.0939043618915589, 'n_estimators': 9590, 'colsample_bytree': 0.17700629912671872, 'subsample': 0.28546377534201406}. Best is trial 38 with value: 0.8581744580294931.\n",
      "[I 2024-01-29 11:19:27,628] Trial 48 finished with value: 0.8181148216719759 and parameters: {'reg_alpha': 3.5986189464985454, 'reg_lambda': 0.3043949655670471, 'num_leaves': 42, 'learning_rate': 0.09014957559060618, 'n_estimators': 9136, 'colsample_bytree': 0.11446049090483235, 'subsample': 0.16220046692517365}. Best is trial 38 with value: 0.8581744580294931.\n",
      "[I 2024-01-29 12:18:23,376] Trial 49 finished with value: 0.8589249132491635 and parameters: {'reg_alpha': 1.0965677422321845, 'reg_lambda': 0.04812203720431938, 'num_leaves': 95, 'learning_rate': 0.097704306984493, 'n_estimators': 9973, 'colsample_bytree': 0.22790289092960928, 'subsample': 0.2161868008515969}. Best is trial 49 with value: 0.8589249132491635.\n",
      "[I 2024-01-29 13:05:18,142] Trial 50 finished with value: 0.855326688470721 and parameters: {'reg_alpha': 0.1307599362811586, 'reg_lambda': 0.07421449865516269, 'num_leaves': 95, 'learning_rate': 0.09962037298906125, 'n_estimators': 9075, 'colsample_bytree': 0.22856182759144986, 'subsample': 0.27869688857643377}. Best is trial 49 with value: 0.8589249132491635.\n",
      "[I 2024-01-29 13:50:55,905] Trial 51 finished with value: 0.852486237388789 and parameters: {'reg_alpha': 0.14946382234232264, 'reg_lambda': 0.05896717642542639, 'num_leaves': 85, 'learning_rate': 0.09865440642338755, 'n_estimators': 9163, 'colsample_bytree': 0.22697031569400616, 'subsample': 0.2993497664472624}. Best is trial 49 with value: 0.8589249132491635.\n",
      "[I 2024-01-29 14:37:15,420] Trial 52 finished with value: 0.8536847414694698 and parameters: {'reg_alpha': 2.576769330557687, 'reg_lambda': 0.10630906023356289, 'num_leaves': 96, 'learning_rate': 0.0960365634598982, 'n_estimators': 9664, 'colsample_bytree': 0.1413454874419272, 'subsample': 0.25493603188121516}. Best is trial 49 with value: 0.8589249132491635.\n",
      "[I 2024-01-29 15:31:52,033] Trial 53 finished with value: 0.8519686450748556 and parameters: {'reg_alpha': 8.802824238435814, 'reg_lambda': 0.04154580685653005, 'num_leaves': 95, 'learning_rate': 0.0969682804937593, 'n_estimators': 9076, 'colsample_bytree': 0.24834226747676258, 'subsample': 0.2732137182574496}. Best is trial 49 with value: 0.8589249132491635.\n",
      "[I 2024-01-29 16:11:13,961] Trial 54 finished with value: 0.846070409043663 and parameters: {'reg_alpha': 0.5195361841989635, 'reg_lambda': 0.02117711700943827, 'num_leaves': 77, 'learning_rate': 0.09982603569503168, 'n_estimators': 8326, 'colsample_bytree': 0.20740575752825674, 'subsample': 0.19875409931756666}. Best is trial 49 with value: 0.8589249132491635.\n",
      "[I 2024-01-29 17:01:06,608] Trial 55 finished with value: 0.8480234590203057 and parameters: {'reg_alpha': 0.07727613446968816, 'reg_lambda': 0.08998079772149106, 'num_leaves': 65, 'learning_rate': 0.09477068248473426, 'n_estimators': 9999, 'colsample_bytree': 0.27911673770482265, 'subsample': 0.17760505182052766}. Best is trial 49 with value: 0.8589249132491635.\n",
      "[I 2024-01-29 17:21:45,335] Trial 56 finished with value: 0.8193610818836096 and parameters: {'reg_alpha': 0.27650477713259736, 'reg_lambda': 0.16921987471441272, 'num_leaves': 95, 'learning_rate': 0.09017735346836912, 'n_estimators': 4112, 'colsample_bytree': 0.13509748913025008, 'subsample': 0.30066658696426457}. Best is trial 49 with value: 0.8589249132491635.\n",
      "[I 2024-01-29 18:07:18,156] Trial 57 finished with value: 0.8363627597491153 and parameters: {'reg_alpha': 0.034798887339343325, 'reg_lambda': 0.03800367081463716, 'num_leaves': 56, 'learning_rate': 0.08689652426391256, 'n_estimators': 9362, 'colsample_bytree': 0.2280368826200951, 'subsample': 0.14760321163252932}. Best is trial 49 with value: 0.8589249132491635.\n",
      "[I 2024-01-29 18:45:32,223] Trial 58 finished with value: 0.84359968363638 and parameters: {'reg_alpha': 0.15951376968836167, 'reg_lambda': 0.38366123935509083, 'num_leaves': 81, 'learning_rate': 0.0955255240832294, 'n_estimators': 8129, 'colsample_bytree': 0.1799335240217722, 'subsample': 0.22970683037976278}. Best is trial 49 with value: 0.8589249132491635.\n",
      "[I 2024-01-29 19:36:30,251] Trial 59 finished with value: 0.854409074800419 and parameters: {'reg_alpha': 1.5434176011921399, 'reg_lambda': 1.1632299858807809, 'num_leaves': 88, 'learning_rate': 0.08329232455298288, 'n_estimators': 9670, 'colsample_bytree': 0.28477278433911046, 'subsample': 0.20790724438217995}. Best is trial 49 with value: 0.8589249132491635.\n",
      "[I 2024-01-29 20:27:36,476] Trial 60 finished with value: 0.8498959726863485 and parameters: {'reg_alpha': 3.3496202087441547, 'reg_lambda': 5.771115505574091, 'num_leaves': 88, 'learning_rate': 0.08026619964611198, 'n_estimators': 8963, 'colsample_bytree': 0.2907386972719796, 'subsample': 0.12062277308396877}. Best is trial 49 with value: 0.8589249132491635.\n",
      "[I 2024-01-29 21:18:11,185] Trial 61 finished with value: 0.8561450877175965 and parameters: {'reg_alpha': 1.1717288328261675, 'reg_lambda': 1.2878326345016573, 'num_leaves': 95, 'learning_rate': 0.08465167862197095, 'n_estimators': 9711, 'colsample_bytree': 0.24680747581726012, 'subsample': 0.20336056171079833}. Best is trial 49 with value: 0.8589249132491635.\n",
      "[I 2024-01-29 22:10:56,595] Trial 62 finished with value: 0.8524829279677849 and parameters: {'reg_alpha': 1.4046173804753848, 'reg_lambda': 4.709766522984477, 'num_leaves': 87, 'learning_rate': 0.08450044925086964, 'n_estimators': 9704, 'colsample_bytree': 0.24317420283064498, 'subsample': 0.21365599139865027}. Best is trial 49 with value: 0.8589249132491635.\n",
      "[I 2024-01-29 23:04:24,154] Trial 63 finished with value: 0.8449497399201467 and parameters: {'reg_alpha': 0.5678589145811629, 'reg_lambda': 1.3112907069756967, 'num_leaves': 71, 'learning_rate': 0.07843833351995956, 'n_estimators': 9249, 'colsample_bytree': 0.2940806259361335, 'subsample': 0.2600017646774926}. Best is trial 49 with value: 0.8589249132491635.\n",
      "[I 2024-01-30 00:00:21,117] Trial 64 finished with value: 0.8535172638896334 and parameters: {'reg_alpha': 1.5680950461273415, 'reg_lambda': 1.6387229132827565, 'num_leaves': 83, 'learning_rate': 0.08863932367251699, 'n_estimators': 9717, 'colsample_bytree': 0.2620008704037001, 'subsample': 0.19108617389865848}. Best is trial 49 with value: 0.8589249132491635.\n",
      "[I 2024-01-30 00:43:38,687] Trial 65 finished with value: 0.8402975279125972 and parameters: {'reg_alpha': 5.766807802898292, 'reg_lambda': 2.406542502596496, 'num_leaves': 95, 'learning_rate': 0.08386692253164456, 'n_estimators': 8862, 'colsample_bytree': 0.10201244059130699, 'subsample': 0.1470330091896364}. Best is trial 49 with value: 0.8589249132491635.\n",
      "[I 2024-01-30 01:26:36,481] Trial 66 finished with value: 0.8107853540959878 and parameters: {'reg_alpha': 0.7849876903324857, 'reg_lambda': 3.266192813749989, 'num_leaves': 30, 'learning_rate': 0.09098874998159358, 'n_estimators': 9288, 'colsample_bytree': 0.20964403279735938, 'subsample': 0.31979375537284804}. Best is trial 49 with value: 0.8589249132491635.\n",
      "[I 2024-01-30 01:42:05,103] Trial 67 finished with value: 0.80335402513002 and parameters: {'reg_alpha': 2.183525241872353, 'reg_lambda': 0.8558606117872921, 'num_leaves': 89, 'learning_rate': 0.09939649570662398, 'n_estimators': 2248, 'colsample_bytree': 0.3161071322738344, 'subsample': 0.23951684827677003}. Best is trial 49 with value: 0.8589249132491635.\n",
      "[I 2024-01-30 02:30:03,632] Trial 68 finished with value: 0.8448491420344917 and parameters: {'reg_alpha': 4.361523993558794, 'reg_lambda': 0.5126998658954427, 'num_leaves': 79, 'learning_rate': 0.08635116708726723, 'n_estimators': 8419, 'colsample_bytree': 0.2553401410891296, 'subsample': 0.20277710304640967}. Best is trial 49 with value: 0.8589249132491635.\n",
      "[I 2024-01-30 03:16:00,396] Trial 69 finished with value: 0.8475605382314159 and parameters: {'reg_alpha': 2.1516891673017704, 'reg_lambda': 0.25642314347905915, 'num_leaves': 97, 'learning_rate': 0.08027875202993617, 'n_estimators': 9000, 'colsample_bytree': 0.1534851696555038, 'subsample': 0.353268878786682}. Best is trial 49 with value: 0.8589249132491635.\n",
      "[I 2024-01-30 04:18:42,357] Trial 70 finished with value: 0.8542941046817155 and parameters: {'reg_alpha': 9.53910565701061, 'reg_lambda': 8.670004856090085, 'num_leaves': 93, 'learning_rate': 0.09657360007586917, 'n_estimators': 9718, 'colsample_bytree': 0.29492881162370854, 'subsample': 0.16750744135879297}. Best is trial 49 with value: 0.8589249132491635.\n",
      "[I 2024-01-30 05:20:13,667] Trial 71 finished with value: 0.8539167998990761 and parameters: {'reg_alpha': 9.13637943425817, 'reg_lambda': 0.8975663249511, 'num_leaves': 92, 'learning_rate': 0.09187978258924547, 'n_estimators': 9750, 'colsample_bytree': 0.2909140605730537, 'subsample': 0.2659555677604167}. Best is trial 49 with value: 0.8589249132491635.\n",
      "[I 2024-01-30 06:14:31,144] Trial 72 finished with value: 0.8553716994495199 and parameters: {'reg_alpha': 1.000506932806091, 'reg_lambda': 8.892910548301103, 'num_leaves': 96, 'learning_rate': 0.09582481982475134, 'n_estimators': 9408, 'colsample_bytree': 0.22818352581178564, 'subsample': 0.1238850637921751}. Best is trial 49 with value: 0.8589249132491635.\n",
      "[I 2024-01-30 07:09:42,469] Trial 73 finished with value: 0.8525170457912958 and parameters: {'reg_alpha': 4.074739056726038, 'reg_lambda': 8.831454094404085, 'num_leaves': 87, 'learning_rate': 0.09613978206553311, 'n_estimators': 9990, 'colsample_bytree': 0.20626590800263783, 'subsample': 0.11427601999415914}. Best is trial 49 with value: 0.8589249132491635.\n",
      "[I 2024-01-30 08:03:52,890] Trial 74 finished with value: 0.8566860662317589 and parameters: {'reg_alpha': 0.4077538307111636, 'reg_lambda': 3.231290037797631, 'num_leaves': 97, 'learning_rate': 0.0968406408193863, 'n_estimators': 9478, 'colsample_bytree': 0.22445061274780234, 'subsample': 0.16637464721786707}. Best is trial 49 with value: 0.8589249132491635.\n",
      "[I 2024-01-30 08:59:56,083] Trial 75 finished with value: 0.8559502856166151 and parameters: {'reg_alpha': 0.5083695479968051, 'reg_lambda': 3.62887903436972, 'num_leaves': 98, 'learning_rate': 0.08886844189851044, 'n_estimators': 9473, 'colsample_bytree': 0.24175050182200009, 'subsample': 0.10709607703742619}. Best is trial 49 with value: 0.8589249132491635.\n",
      "[I 2024-01-30 09:51:31,088] Trial 76 finished with value: 0.8574973560053669 and parameters: {'reg_alpha': 0.40641295427632074, 'reg_lambda': 2.714793507985956, 'num_leaves': 97, 'learning_rate': 0.09987237191828548, 'n_estimators': 9426, 'colsample_bytree': 0.23462190236086172, 'subsample': 0.13754643489863388}. Best is trial 49 with value: 0.8589249132491635.\n",
      "[I 2024-01-30 10:22:24,677] Trial 77 finished with value: 0.7319911893825415 and parameters: {'reg_alpha': 0.07111519656551556, 'reg_lambda': 3.106147697857678, 'num_leaves': 3, 'learning_rate': 0.08835737069167704, 'n_estimators': 9434, 'colsample_bytree': 0.19403638737196513, 'subsample': 0.12571729752597866}. Best is trial 49 with value: 0.8589249132491635.\n",
      "[I 2024-01-30 10:50:50,145] Trial 78 finished with value: 0.8340839909174441 and parameters: {'reg_alpha': 0.35991552626406975, 'reg_lambda': 6.035717584974677, 'num_leaves': 98, 'learning_rate': 0.09174695092050308, 'n_estimators': 5785, 'colsample_bytree': 0.15683054683022352, 'subsample': 0.10690775286314076}. Best is trial 49 with value: 0.8589249132491635.\n",
      "[I 2024-01-30 11:32:38,785] Trial 79 finished with value: 0.8540763375478813 and parameters: {'reg_alpha': 0.21929216362047524, 'reg_lambda': 2.536232953533119, 'num_leaves': 97, 'learning_rate': 0.09386418702089795, 'n_estimators': 8614, 'colsample_bytree': 0.23821749974587295, 'subsample': 0.1437140762139476}. Best is trial 49 with value: 0.8589249132491635.\n",
      "[I 2024-01-30 12:06:32,031] Trial 80 finished with value: 0.8451701090147616 and parameters: {'reg_alpha': 0.4346829279115837, 'reg_lambda': 0.6010365983820433, 'num_leaves': 100, 'learning_rate': 0.09730805472977304, 'n_estimators': 7675, 'colsample_bytree': 0.12567408382958636, 'subsample': 0.16310823835712346}. Best is trial 49 with value: 0.8589249132491635.\n",
      "[I 2024-01-30 12:40:42,871] Trial 81 finished with value: 0.8322950894949099 and parameters: {'reg_alpha': 0.11446210019260877, 'reg_lambda': 4.678915229337549, 'num_leaves': 91, 'learning_rate': 0.0995716021944172, 'n_estimators': 5062, 'colsample_bytree': 0.2217299056685717, 'subsample': 0.1366302509038794}. Best is trial 49 with value: 0.8589249132491635.\n",
      "[I 2024-01-30 13:43:36,045] Trial 82 finished with value: 0.8557347524481137 and parameters: {'reg_alpha': 0.9473373055506275, 'reg_lambda': 1.8953963485393155, 'num_leaves': 97, 'learning_rate': 0.09997914735941582, 'n_estimators': 8822, 'colsample_bytree': 0.2377098791959911, 'subsample': 0.10216002478204114}. Best is trial 49 with value: 0.8589249132491635.\n",
      "[I 2024-01-30 15:02:12,843] Trial 83 finished with value: 0.8598529163121528 and parameters: {'reg_alpha': 0.925720355987971, 'reg_lambda': 2.1859076097139423, 'num_leaves': 98, 'learning_rate': 0.09275084424996323, 'n_estimators': 9423, 'colsample_bytree': 0.33492151112043106, 'subsample': 0.1127920261108422}. Best is trial 83 with value: 0.8598529163121528.\n",
      "[I 2024-01-30 16:31:25,494] Trial 84 finished with value: 0.857132825217603 and parameters: {'reg_alpha': 0.5793581097219341, 'reg_lambda': 1.3019491786388002, 'num_leaves': 98, 'learning_rate': 0.09250225708352405, 'n_estimators': 8745, 'colsample_bytree': 0.33046966581279563, 'subsample': 0.167708783873136}. Best is trial 83 with value: 0.8598529163121528.\n",
      "[I 2024-01-30 18:07:22,721] Trial 85 finished with value: 0.8582399043209183 and parameters: {'reg_alpha': 0.387764819722242, 'reg_lambda': 0.49026670643725406, 'num_leaves': 93, 'learning_rate': 0.08793360579168714, 'n_estimators': 9472, 'colsample_bytree': 0.3311262069456519, 'subsample': 0.1797246016222749}. Best is trial 83 with value: 0.8598529163121528.\n",
      "[I 2024-01-30 19:45:12,728] Trial 86 finished with value: 0.8594383991094708 and parameters: {'reg_alpha': 0.20861610767608824, 'reg_lambda': 0.5549404759010058, 'num_leaves': 90, 'learning_rate': 0.09266167542476125, 'n_estimators': 9847, 'colsample_bytree': 0.3367080715239795, 'subsample': 0.17538954028666334}. Best is trial 83 with value: 0.8598529163121528.\n",
      "[I 2024-01-30 21:16:44,999] Trial 87 finished with value: 0.8572297645801893 and parameters: {'reg_alpha': 0.24074748203120924, 'reg_lambda': 0.6976094444203504, 'num_leaves': 90, 'learning_rate': 0.09220989410943382, 'n_estimators': 8958, 'colsample_bytree': 0.3753599339189965, 'subsample': 0.18197791252171858}. Best is trial 83 with value: 0.8598529163121528.\n",
      "[I 2024-01-30 22:40:14,460] Trial 88 finished with value: 0.8522302636611293 and parameters: {'reg_alpha': 0.20264255659415795, 'reg_lambda': 0.5665780155293982, 'num_leaves': 84, 'learning_rate': 0.09283376913163091, 'n_estimators': 8522, 'colsample_bytree': 0.33409576263796187, 'subsample': 0.18322320040295959}. Best is trial 83 with value: 0.8598529163121528.\n",
      "[I 2024-01-30 23:51:22,304] Trial 89 finished with value: 0.8477428706777687 and parameters: {'reg_alpha': 0.6536969789547634, 'reg_lambda': 0.25803575423447317, 'num_leaves': 90, 'learning_rate': 0.09166378085565643, 'n_estimators': 6868, 'colsample_bytree': 0.36970603012686015, 'subsample': 0.22507288520793445}. Best is trial 83 with value: 0.8598529163121528.\n",
      "[I 2024-01-31 01:23:34,872] Trial 90 finished with value: 0.8534130286927278 and parameters: {'reg_alpha': 0.026817250295017886, 'reg_lambda': 0.15295192659210044, 'num_leaves': 81, 'learning_rate': 0.08741196984864606, 'n_estimators': 8976, 'colsample_bytree': 0.41110409343229415, 'subsample': 0.1554061902549416}. Best is trial 83 with value: 0.8598529163121528.\n",
      "[I 2024-01-31 03:02:01,506] Trial 91 finished with value: 0.8600214939249368 and parameters: {'reg_alpha': 0.36772054577553837, 'reg_lambda': 0.43611821491863073, 'num_leaves': 92, 'learning_rate': 0.094301841281451, 'n_estimators': 9882, 'colsample_bytree': 0.33560455303045045, 'subsample': 0.1768573910270525}. Best is trial 91 with value: 0.8600214939249368.\n",
      "[I 2024-01-31 04:42:57,160] Trial 92 finished with value: 0.8601230317154164 and parameters: {'reg_alpha': 0.22874115109030496, 'reg_lambda': 0.7854561284182642, 'num_leaves': 93, 'learning_rate': 0.09270708463606236, 'n_estimators': 9941, 'colsample_bytree': 0.33406442678952747, 'subsample': 0.1781788940580592}. Best is trial 92 with value: 0.8601230317154164.\n",
      "[I 2024-01-31 06:02:47,064] Trial 93 finished with value: 0.8000239167449296 and parameters: {'reg_alpha': 0.23305676341445708, 'reg_lambda': 0.5643291975907598, 'num_leaves': 19, 'learning_rate': 0.09497284603316715, 'n_estimators': 9961, 'colsample_bytree': 0.36198148285456916, 'subsample': 0.18839747127489923}. Best is trial 92 with value: 0.8601230317154164.\n",
      "[I 2024-01-31 07:37:20,136] Trial 94 finished with value: 0.8584851749582948 and parameters: {'reg_alpha': 0.08382319230569213, 'reg_lambda': 0.4337326485538376, 'num_leaves': 93, 'learning_rate': 0.08961559997066619, 'n_estimators': 9829, 'colsample_bytree': 0.3152061811466129, 'subsample': 0.13551185353007328}. Best is trial 92 with value: 0.8601230317154164.\n",
      "[I 2024-01-31 08:37:30,710] Trial 95 finished with value: 0.8553981278034152 and parameters: {'reg_alpha': 0.08702964823383036, 'reg_lambda': 0.42224303950785996, 'num_leaves': 86, 'learning_rate': 0.08638721213093441, 'n_estimators': 9868, 'colsample_bytree': 0.30798783884363445, 'subsample': 0.13864523193165285}. Best is trial 92 with value: 0.8601230317154164.\n",
      "[I 2024-01-31 09:36:56,392] Trial 96 finished with value: 0.8588374202171506 and parameters: {'reg_alpha': 0.06348810127360163, 'reg_lambda': 0.1853572642499367, 'num_leaves': 93, 'learning_rate': 0.08909665651392848, 'n_estimators': 9840, 'colsample_bytree': 0.3369618870662612, 'subsample': 0.23720020441350617}. Best is trial 92 with value: 0.8601230317154164.\n",
      "[I 2024-01-31 10:44:51,968] Trial 97 finished with value: 0.8589163902748355 and parameters: {'reg_alpha': 0.05437865181997159, 'reg_lambda': 0.13030840093809642, 'num_leaves': 93, 'learning_rate': 0.08888668018982857, 'n_estimators': 9788, 'colsample_bytree': 0.33635747834520363, 'subsample': 0.2486868488683717}. Best is trial 92 with value: 0.8601230317154164.\n",
      "[I 2024-01-31 11:43:41,111] Trial 98 finished with value: 0.8586927511130233 and parameters: {'reg_alpha': 0.05327146411732039, 'reg_lambda': 0.11372634290391133, 'num_leaves': 92, 'learning_rate': 0.08935154208258722, 'n_estimators': 9820, 'colsample_bytree': 0.34733564191054195, 'subsample': 0.2414939488825608}. Best is trial 92 with value: 0.8601230317154164.\n",
      "[I 2024-01-31 12:44:25,661] Trial 99 finished with value: 0.8568616633697704 and parameters: {'reg_alpha': 0.04262949471721298, 'reg_lambda': 0.11736825159107594, 'num_leaves': 92, 'learning_rate': 0.08942670318296551, 'n_estimators': 9267, 'colsample_bytree': 0.3528134625174782, 'subsample': 0.24723720975129693}. Best is trial 92 with value: 0.8601230317154164.\n"
     ]
    }
   ],
   "source": [
    "sampler = TPESampler(seed=seed)  # Make the sampler behave in a deterministic way.\n",
    "study = optuna.create_study(\n",
    "    direction=\"maximize\",\n",
    "    sampler=sampler,\n",
    "    pruner=optuna.pruners.HyperbandPruner(\n",
    "        min_resource=1, \n",
    "        max_resource=n_train_iter, \n",
    "        reduction_factor=3\n",
    "    )\n",
    ")\n",
    "study.optimize(objective, n_trials=n_trials)"
   ]
  },
  {
   "cell_type": "code",
   "execution_count": 8,
   "metadata": {},
   "outputs": [
    {
     "data": {
      "text/html": [
       "<div>\n",
       "<style scoped>\n",
       "    .dataframe tbody tr th:only-of-type {\n",
       "        vertical-align: middle;\n",
       "    }\n",
       "\n",
       "    .dataframe tbody tr th {\n",
       "        vertical-align: top;\n",
       "    }\n",
       "\n",
       "    .dataframe thead th {\n",
       "        text-align: right;\n",
       "    }\n",
       "</style>\n",
       "<table border=\"1\" class=\"dataframe\">\n",
       "  <thead>\n",
       "    <tr style=\"text-align: right;\">\n",
       "      <th></th>\n",
       "      <th>number</th>\n",
       "      <th>AUROC</th>\n",
       "      <th>datetime_start</th>\n",
       "      <th>datetime_complete</th>\n",
       "      <th>duration</th>\n",
       "      <th>params_colsample_bytree</th>\n",
       "      <th>params_learning_rate</th>\n",
       "      <th>params_n_estimators</th>\n",
       "      <th>params_num_leaves</th>\n",
       "      <th>params_reg_alpha</th>\n",
       "      <th>params_reg_lambda</th>\n",
       "      <th>params_subsample</th>\n",
       "      <th>state</th>\n",
       "    </tr>\n",
       "  </thead>\n",
       "  <tbody>\n",
       "    <tr>\n",
       "      <th>0</th>\n",
       "      <td>0</td>\n",
       "      <td>0.821725</td>\n",
       "      <td>2024-01-28 00:11:31.230251</td>\n",
       "      <td>2024-01-28 01:00:23.546464</td>\n",
       "      <td>0 days 00:48:52.316213</td>\n",
       "      <td>0.345333</td>\n",
       "      <td>0.078750</td>\n",
       "      <td>8020</td>\n",
       "      <td>45</td>\n",
       "      <td>5.292673e-07</td>\n",
       "      <td>3.971723e-03</td>\n",
       "      <td>0.348818</td>\n",
       "      <td>COMPLETE</td>\n",
       "    </tr>\n",
       "    <tr>\n",
       "      <th>1</th>\n",
       "      <td>1</td>\n",
       "      <td>0.810988</td>\n",
       "      <td>2024-01-28 01:00:23.547870</td>\n",
       "      <td>2024-01-28 01:23:46.291547</td>\n",
       "      <td>0 days 00:23:22.743677</td>\n",
       "      <td>0.715117</td>\n",
       "      <td>0.036424</td>\n",
       "      <td>5509</td>\n",
       "      <td>88</td>\n",
       "      <td>1.647592e-01</td>\n",
       "      <td>4.200047e+00</td>\n",
       "      <td>0.741432</td>\n",
       "      <td>COMPLETE</td>\n",
       "    </tr>\n",
       "    <tr>\n",
       "      <th>2</th>\n",
       "      <td>2</td>\n",
       "      <td>0.736499</td>\n",
       "      <td>2024-01-28 01:23:46.293197</td>\n",
       "      <td>2024-01-28 02:04:47.576932</td>\n",
       "      <td>0 days 00:41:01.283735</td>\n",
       "      <td>0.894377</td>\n",
       "      <td>0.002363</td>\n",
       "      <td>7956</td>\n",
       "      <td>51</td>\n",
       "      <td>2.149101e-05</td>\n",
       "      <td>1.123998e-03</td>\n",
       "      <td>0.428397</td>\n",
       "      <td>COMPLETE</td>\n",
       "    </tr>\n",
       "    <tr>\n",
       "      <th>3</th>\n",
       "      <td>3</td>\n",
       "      <td>0.815520</td>\n",
       "      <td>2024-01-28 02:04:47.578428</td>\n",
       "      <td>2024-01-28 02:38:23.110917</td>\n",
       "      <td>0 days 00:33:35.532489</td>\n",
       "      <td>0.457482</td>\n",
       "      <td>0.093381</td>\n",
       "      <td>6863</td>\n",
       "      <td>38</td>\n",
       "      <td>3.455935e-03</td>\n",
       "      <td>4.769042e-08</td>\n",
       "      <td>0.809857</td>\n",
       "      <td>COMPLETE</td>\n",
       "    </tr>\n",
       "    <tr>\n",
       "      <th>4</th>\n",
       "      <td>4</td>\n",
       "      <td>0.828199</td>\n",
       "      <td>2024-01-28 02:38:23.112313</td>\n",
       "      <td>2024-01-28 03:16:38.762517</td>\n",
       "      <td>0 days 00:38:15.650204</td>\n",
       "      <td>0.229390</td>\n",
       "      <td>0.044181</td>\n",
       "      <td>8220</td>\n",
       "      <td>88</td>\n",
       "      <td>7.104362e-06</td>\n",
       "      <td>1.296844e-03</td>\n",
       "      <td>0.733835</td>\n",
       "      <td>COMPLETE</td>\n",
       "    </tr>\n",
       "  </tbody>\n",
       "</table>\n",
       "</div>"
      ],
      "text/plain": [
       "   number     AUROC             datetime_start          datetime_complete  \\\n",
       "0       0  0.821725 2024-01-28 00:11:31.230251 2024-01-28 01:00:23.546464   \n",
       "1       1  0.810988 2024-01-28 01:00:23.547870 2024-01-28 01:23:46.291547   \n",
       "2       2  0.736499 2024-01-28 01:23:46.293197 2024-01-28 02:04:47.576932   \n",
       "3       3  0.815520 2024-01-28 02:04:47.578428 2024-01-28 02:38:23.110917   \n",
       "4       4  0.828199 2024-01-28 02:38:23.112313 2024-01-28 03:16:38.762517   \n",
       "\n",
       "                duration  params_colsample_bytree  params_learning_rate  \\\n",
       "0 0 days 00:48:52.316213                 0.345333              0.078750   \n",
       "1 0 days 00:23:22.743677                 0.715117              0.036424   \n",
       "2 0 days 00:41:01.283735                 0.894377              0.002363   \n",
       "3 0 days 00:33:35.532489                 0.457482              0.093381   \n",
       "4 0 days 00:38:15.650204                 0.229390              0.044181   \n",
       "\n",
       "   params_n_estimators  params_num_leaves  params_reg_alpha  \\\n",
       "0                 8020                 45      5.292673e-07   \n",
       "1                 5509                 88      1.647592e-01   \n",
       "2                 7956                 51      2.149101e-05   \n",
       "3                 6863                 38      3.455935e-03   \n",
       "4                 8220                 88      7.104362e-06   \n",
       "\n",
       "   params_reg_lambda  params_subsample     state  \n",
       "0       3.971723e-03          0.348818  COMPLETE  \n",
       "1       4.200047e+00          0.741432  COMPLETE  \n",
       "2       1.123998e-03          0.428397  COMPLETE  \n",
       "3       4.769042e-08          0.809857  COMPLETE  \n",
       "4       1.296844e-03          0.733835  COMPLETE  "
      ]
     },
     "execution_count": 8,
     "metadata": {},
     "output_type": "execute_result"
    }
   ],
   "source": [
    "df_studytrials = study.trials_dataframe()\n",
    "df_studytrials.rename(columns={'value': 'AUROC'}, inplace=True)\n",
    "df_studytrials.to_csv('../data/models/python/lightgbm/best_LGBM_model_studytrials.csv', index=False)\n",
    "\n",
    "df_studytrials.head()"
   ]
  },
  {
   "cell_type": "code",
   "execution_count": 9,
   "metadata": {},
   "outputs": [
    {
     "name": "stdout",
     "output_type": "stream",
     "text": [
      "Number of finished trials: 100\n",
      "Best trial:\n",
      "  AUROC: 0.8601230317154164\n",
      "  Params: \n",
      "    reg_alpha: 0.22874115109030496\n",
      "    reg_lambda: 0.7854561284182642\n",
      "    num_leaves: 93\n",
      "    learning_rate: 0.09270708463606236\n",
      "    n_estimators: 9941\n",
      "    colsample_bytree: 0.33406442678952747\n",
      "    subsample: 0.1781788940580592\n"
     ]
    }
   ],
   "source": [
    "print(f\"Number of finished trials: {len(study.trials)}\")\n",
    "print(\"Best trial:\")\n",
    "trial = study.best_trial\n",
    "print(f\"  AUROC: {trial.value}\")\n",
    "print(\"  Params: \")\n",
    "for key, value in trial.params.items():\n",
    "    print(f\"    {key}: {value}\")"
   ]
  },
  {
   "cell_type": "code",
   "execution_count": 10,
   "metadata": {},
   "outputs": [
    {
     "data": {
      "application/vnd.plotly.v1+json": {
       "config": {
        "plotlyServerURL": "https://plot.ly"
       },
       "data": [
        {
         "cliponaxis": false,
         "hovertemplate": [
          "reg_alpha (FloatDistribution): 0.002169902182992244<extra></extra>",
          "reg_lambda (FloatDistribution): 0.005668684477234276<extra></extra>",
          "subsample (FloatDistribution): 0.00857138404682154<extra></extra>",
          "colsample_bytree (FloatDistribution): 0.02987125467004369<extra></extra>",
          "n_estimators (IntDistribution): 0.04373366492441971<extra></extra>",
          "learning_rate (FloatDistribution): 0.25232160128465414<extra></extra>",
          "num_leaves (IntDistribution): 0.6576635084138345<extra></extra>"
         ],
         "name": "Objective Value",
         "orientation": "h",
         "text": [
          "<0.01",
          "<0.01",
          "<0.01",
          "0.03",
          "0.04",
          "0.25",
          "0.66"
         ],
         "textposition": "outside",
         "type": "bar",
         "x": [
          0.002169902182992244,
          0.005668684477234276,
          0.00857138404682154,
          0.02987125467004369,
          0.04373366492441971,
          0.25232160128465414,
          0.6576635084138345
         ],
         "y": [
          "reg_alpha",
          "reg_lambda",
          "subsample",
          "colsample_bytree",
          "n_estimators",
          "learning_rate",
          "num_leaves"
         ]
        }
       ],
       "layout": {
        "template": {
         "data": {
          "bar": [
           {
            "error_x": {
             "color": "#2a3f5f"
            },
            "error_y": {
             "color": "#2a3f5f"
            },
            "marker": {
             "line": {
              "color": "#E5ECF6",
              "width": 0.5
             },
             "pattern": {
              "fillmode": "overlay",
              "size": 10,
              "solidity": 0.2
             }
            },
            "type": "bar"
           }
          ],
          "barpolar": [
           {
            "marker": {
             "line": {
              "color": "#E5ECF6",
              "width": 0.5
             },
             "pattern": {
              "fillmode": "overlay",
              "size": 10,
              "solidity": 0.2
             }
            },
            "type": "barpolar"
           }
          ],
          "carpet": [
           {
            "aaxis": {
             "endlinecolor": "#2a3f5f",
             "gridcolor": "white",
             "linecolor": "white",
             "minorgridcolor": "white",
             "startlinecolor": "#2a3f5f"
            },
            "baxis": {
             "endlinecolor": "#2a3f5f",
             "gridcolor": "white",
             "linecolor": "white",
             "minorgridcolor": "white",
             "startlinecolor": "#2a3f5f"
            },
            "type": "carpet"
           }
          ],
          "choropleth": [
           {
            "colorbar": {
             "outlinewidth": 0,
             "ticks": ""
            },
            "type": "choropleth"
           }
          ],
          "contour": [
           {
            "colorbar": {
             "outlinewidth": 0,
             "ticks": ""
            },
            "colorscale": [
             [
              0,
              "#0d0887"
             ],
             [
              0.1111111111111111,
              "#46039f"
             ],
             [
              0.2222222222222222,
              "#7201a8"
             ],
             [
              0.3333333333333333,
              "#9c179e"
             ],
             [
              0.4444444444444444,
              "#bd3786"
             ],
             [
              0.5555555555555556,
              "#d8576b"
             ],
             [
              0.6666666666666666,
              "#ed7953"
             ],
             [
              0.7777777777777778,
              "#fb9f3a"
             ],
             [
              0.8888888888888888,
              "#fdca26"
             ],
             [
              1,
              "#f0f921"
             ]
            ],
            "type": "contour"
           }
          ],
          "contourcarpet": [
           {
            "colorbar": {
             "outlinewidth": 0,
             "ticks": ""
            },
            "type": "contourcarpet"
           }
          ],
          "heatmap": [
           {
            "colorbar": {
             "outlinewidth": 0,
             "ticks": ""
            },
            "colorscale": [
             [
              0,
              "#0d0887"
             ],
             [
              0.1111111111111111,
              "#46039f"
             ],
             [
              0.2222222222222222,
              "#7201a8"
             ],
             [
              0.3333333333333333,
              "#9c179e"
             ],
             [
              0.4444444444444444,
              "#bd3786"
             ],
             [
              0.5555555555555556,
              "#d8576b"
             ],
             [
              0.6666666666666666,
              "#ed7953"
             ],
             [
              0.7777777777777778,
              "#fb9f3a"
             ],
             [
              0.8888888888888888,
              "#fdca26"
             ],
             [
              1,
              "#f0f921"
             ]
            ],
            "type": "heatmap"
           }
          ],
          "heatmapgl": [
           {
            "colorbar": {
             "outlinewidth": 0,
             "ticks": ""
            },
            "colorscale": [
             [
              0,
              "#0d0887"
             ],
             [
              0.1111111111111111,
              "#46039f"
             ],
             [
              0.2222222222222222,
              "#7201a8"
             ],
             [
              0.3333333333333333,
              "#9c179e"
             ],
             [
              0.4444444444444444,
              "#bd3786"
             ],
             [
              0.5555555555555556,
              "#d8576b"
             ],
             [
              0.6666666666666666,
              "#ed7953"
             ],
             [
              0.7777777777777778,
              "#fb9f3a"
             ],
             [
              0.8888888888888888,
              "#fdca26"
             ],
             [
              1,
              "#f0f921"
             ]
            ],
            "type": "heatmapgl"
           }
          ],
          "histogram": [
           {
            "marker": {
             "pattern": {
              "fillmode": "overlay",
              "size": 10,
              "solidity": 0.2
             }
            },
            "type": "histogram"
           }
          ],
          "histogram2d": [
           {
            "colorbar": {
             "outlinewidth": 0,
             "ticks": ""
            },
            "colorscale": [
             [
              0,
              "#0d0887"
             ],
             [
              0.1111111111111111,
              "#46039f"
             ],
             [
              0.2222222222222222,
              "#7201a8"
             ],
             [
              0.3333333333333333,
              "#9c179e"
             ],
             [
              0.4444444444444444,
              "#bd3786"
             ],
             [
              0.5555555555555556,
              "#d8576b"
             ],
             [
              0.6666666666666666,
              "#ed7953"
             ],
             [
              0.7777777777777778,
              "#fb9f3a"
             ],
             [
              0.8888888888888888,
              "#fdca26"
             ],
             [
              1,
              "#f0f921"
             ]
            ],
            "type": "histogram2d"
           }
          ],
          "histogram2dcontour": [
           {
            "colorbar": {
             "outlinewidth": 0,
             "ticks": ""
            },
            "colorscale": [
             [
              0,
              "#0d0887"
             ],
             [
              0.1111111111111111,
              "#46039f"
             ],
             [
              0.2222222222222222,
              "#7201a8"
             ],
             [
              0.3333333333333333,
              "#9c179e"
             ],
             [
              0.4444444444444444,
              "#bd3786"
             ],
             [
              0.5555555555555556,
              "#d8576b"
             ],
             [
              0.6666666666666666,
              "#ed7953"
             ],
             [
              0.7777777777777778,
              "#fb9f3a"
             ],
             [
              0.8888888888888888,
              "#fdca26"
             ],
             [
              1,
              "#f0f921"
             ]
            ],
            "type": "histogram2dcontour"
           }
          ],
          "mesh3d": [
           {
            "colorbar": {
             "outlinewidth": 0,
             "ticks": ""
            },
            "type": "mesh3d"
           }
          ],
          "parcoords": [
           {
            "line": {
             "colorbar": {
              "outlinewidth": 0,
              "ticks": ""
             }
            },
            "type": "parcoords"
           }
          ],
          "pie": [
           {
            "automargin": true,
            "type": "pie"
           }
          ],
          "scatter": [
           {
            "marker": {
             "colorbar": {
              "outlinewidth": 0,
              "ticks": ""
             }
            },
            "type": "scatter"
           }
          ],
          "scatter3d": [
           {
            "line": {
             "colorbar": {
              "outlinewidth": 0,
              "ticks": ""
             }
            },
            "marker": {
             "colorbar": {
              "outlinewidth": 0,
              "ticks": ""
             }
            },
            "type": "scatter3d"
           }
          ],
          "scattercarpet": [
           {
            "marker": {
             "colorbar": {
              "outlinewidth": 0,
              "ticks": ""
             }
            },
            "type": "scattercarpet"
           }
          ],
          "scattergeo": [
           {
            "marker": {
             "colorbar": {
              "outlinewidth": 0,
              "ticks": ""
             }
            },
            "type": "scattergeo"
           }
          ],
          "scattergl": [
           {
            "marker": {
             "colorbar": {
              "outlinewidth": 0,
              "ticks": ""
             }
            },
            "type": "scattergl"
           }
          ],
          "scattermapbox": [
           {
            "marker": {
             "colorbar": {
              "outlinewidth": 0,
              "ticks": ""
             }
            },
            "type": "scattermapbox"
           }
          ],
          "scatterpolar": [
           {
            "marker": {
             "colorbar": {
              "outlinewidth": 0,
              "ticks": ""
             }
            },
            "type": "scatterpolar"
           }
          ],
          "scatterpolargl": [
           {
            "marker": {
             "colorbar": {
              "outlinewidth": 0,
              "ticks": ""
             }
            },
            "type": "scatterpolargl"
           }
          ],
          "scatterternary": [
           {
            "marker": {
             "colorbar": {
              "outlinewidth": 0,
              "ticks": ""
             }
            },
            "type": "scatterternary"
           }
          ],
          "surface": [
           {
            "colorbar": {
             "outlinewidth": 0,
             "ticks": ""
            },
            "colorscale": [
             [
              0,
              "#0d0887"
             ],
             [
              0.1111111111111111,
              "#46039f"
             ],
             [
              0.2222222222222222,
              "#7201a8"
             ],
             [
              0.3333333333333333,
              "#9c179e"
             ],
             [
              0.4444444444444444,
              "#bd3786"
             ],
             [
              0.5555555555555556,
              "#d8576b"
             ],
             [
              0.6666666666666666,
              "#ed7953"
             ],
             [
              0.7777777777777778,
              "#fb9f3a"
             ],
             [
              0.8888888888888888,
              "#fdca26"
             ],
             [
              1,
              "#f0f921"
             ]
            ],
            "type": "surface"
           }
          ],
          "table": [
           {
            "cells": {
             "fill": {
              "color": "#EBF0F8"
             },
             "line": {
              "color": "white"
             }
            },
            "header": {
             "fill": {
              "color": "#C8D4E3"
             },
             "line": {
              "color": "white"
             }
            },
            "type": "table"
           }
          ]
         },
         "layout": {
          "annotationdefaults": {
           "arrowcolor": "#2a3f5f",
           "arrowhead": 0,
           "arrowwidth": 1
          },
          "autotypenumbers": "strict",
          "coloraxis": {
           "colorbar": {
            "outlinewidth": 0,
            "ticks": ""
           }
          },
          "colorscale": {
           "diverging": [
            [
             0,
             "#8e0152"
            ],
            [
             0.1,
             "#c51b7d"
            ],
            [
             0.2,
             "#de77ae"
            ],
            [
             0.3,
             "#f1b6da"
            ],
            [
             0.4,
             "#fde0ef"
            ],
            [
             0.5,
             "#f7f7f7"
            ],
            [
             0.6,
             "#e6f5d0"
            ],
            [
             0.7,
             "#b8e186"
            ],
            [
             0.8,
             "#7fbc41"
            ],
            [
             0.9,
             "#4d9221"
            ],
            [
             1,
             "#276419"
            ]
           ],
           "sequential": [
            [
             0,
             "#0d0887"
            ],
            [
             0.1111111111111111,
             "#46039f"
            ],
            [
             0.2222222222222222,
             "#7201a8"
            ],
            [
             0.3333333333333333,
             "#9c179e"
            ],
            [
             0.4444444444444444,
             "#bd3786"
            ],
            [
             0.5555555555555556,
             "#d8576b"
            ],
            [
             0.6666666666666666,
             "#ed7953"
            ],
            [
             0.7777777777777778,
             "#fb9f3a"
            ],
            [
             0.8888888888888888,
             "#fdca26"
            ],
            [
             1,
             "#f0f921"
            ]
           ],
           "sequentialminus": [
            [
             0,
             "#0d0887"
            ],
            [
             0.1111111111111111,
             "#46039f"
            ],
            [
             0.2222222222222222,
             "#7201a8"
            ],
            [
             0.3333333333333333,
             "#9c179e"
            ],
            [
             0.4444444444444444,
             "#bd3786"
            ],
            [
             0.5555555555555556,
             "#d8576b"
            ],
            [
             0.6666666666666666,
             "#ed7953"
            ],
            [
             0.7777777777777778,
             "#fb9f3a"
            ],
            [
             0.8888888888888888,
             "#fdca26"
            ],
            [
             1,
             "#f0f921"
            ]
           ]
          },
          "colorway": [
           "#636efa",
           "#EF553B",
           "#00cc96",
           "#ab63fa",
           "#FFA15A",
           "#19d3f3",
           "#FF6692",
           "#B6E880",
           "#FF97FF",
           "#FECB52"
          ],
          "font": {
           "color": "#2a3f5f"
          },
          "geo": {
           "bgcolor": "white",
           "lakecolor": "white",
           "landcolor": "#E5ECF6",
           "showlakes": true,
           "showland": true,
           "subunitcolor": "white"
          },
          "hoverlabel": {
           "align": "left"
          },
          "hovermode": "closest",
          "mapbox": {
           "style": "light"
          },
          "paper_bgcolor": "white",
          "plot_bgcolor": "#E5ECF6",
          "polar": {
           "angularaxis": {
            "gridcolor": "white",
            "linecolor": "white",
            "ticks": ""
           },
           "bgcolor": "#E5ECF6",
           "radialaxis": {
            "gridcolor": "white",
            "linecolor": "white",
            "ticks": ""
           }
          },
          "scene": {
           "xaxis": {
            "backgroundcolor": "#E5ECF6",
            "gridcolor": "white",
            "gridwidth": 2,
            "linecolor": "white",
            "showbackground": true,
            "ticks": "",
            "zerolinecolor": "white"
           },
           "yaxis": {
            "backgroundcolor": "#E5ECF6",
            "gridcolor": "white",
            "gridwidth": 2,
            "linecolor": "white",
            "showbackground": true,
            "ticks": "",
            "zerolinecolor": "white"
           },
           "zaxis": {
            "backgroundcolor": "#E5ECF6",
            "gridcolor": "white",
            "gridwidth": 2,
            "linecolor": "white",
            "showbackground": true,
            "ticks": "",
            "zerolinecolor": "white"
           }
          },
          "shapedefaults": {
           "line": {
            "color": "#2a3f5f"
           }
          },
          "ternary": {
           "aaxis": {
            "gridcolor": "white",
            "linecolor": "white",
            "ticks": ""
           },
           "baxis": {
            "gridcolor": "white",
            "linecolor": "white",
            "ticks": ""
           },
           "bgcolor": "#E5ECF6",
           "caxis": {
            "gridcolor": "white",
            "linecolor": "white",
            "ticks": ""
           }
          },
          "title": {
           "x": 0.05
          },
          "xaxis": {
           "automargin": true,
           "gridcolor": "white",
           "linecolor": "white",
           "ticks": "",
           "title": {
            "standoff": 15
           },
           "zerolinecolor": "white",
           "zerolinewidth": 2
          },
          "yaxis": {
           "automargin": true,
           "gridcolor": "white",
           "linecolor": "white",
           "ticks": "",
           "title": {
            "standoff": 15
           },
           "zerolinecolor": "white",
           "zerolinewidth": 2
          }
         }
        },
        "title": {
         "text": "Hyperparameter Importances"
        },
        "xaxis": {
         "title": {
          "text": "Hyperparameter Importance"
         }
        },
        "yaxis": {
         "title": {
          "text": "Hyperparameter"
         }
        }
       }
      }
     },
     "metadata": {},
     "output_type": "display_data"
    }
   ],
   "source": [
    "# importance of each hyper-parameter\n",
    "optuna.visualization.plot_param_importances(study)"
   ]
  },
  {
   "cell_type": "code",
   "execution_count": 11,
   "metadata": {},
   "outputs": [
    {
     "data": {
      "image/png": "[encoded data removed]",
      "text/plain": [
       "<Figure size 600x400 with 1 Axes>"
      ]
     },
     "metadata": {},
     "output_type": "display_data"
    }
   ],
   "source": [
    "# importance of each hyper-parameter\n",
    "hyp_imp = optuna.importance.get_param_importances(study)\n",
    "hyp_imp = pd.DataFrame(hyp_imp.items(), columns=['feature', 'importance'])\n",
    "hyp_imp.sort_values('importance', ascending=False, inplace=True)\n",
    "\n",
    "fig, ax = plt.subplots(figsize=(6,4))\n",
    "y_pos = range(len(hyp_imp))\n",
    "ax.hlines(y=y_pos, xmin=0, xmax=hyp_imp['importance'], color='grey')\n",
    "ax.scatter(hyp_imp['importance'], y_pos, color='darkorange', s=100)\n",
    "ax.set_yticks(y_pos)\n",
    "ax.set_yticklabels(hyp_imp['feature'])\n",
    "\n",
    "# Highest importance at the top\n",
    "ax.invert_yaxis()\n",
    "\n",
    "ax.set_xlabel('Hyperparameter Importance')\n",
    "ax.set_ylabel('Hyperparameter')\n",
    "\n",
    "ax.spines['top'].set_visible(False)\n",
    "ax.spines['right'].set_visible(False)\n",
    "\n",
    "plt.tight_layout()\n",
    "fig.savefig(f'../figures/python/lightgbm/LightGBM_Hyperparameter_Importance.pdf', dpi=600, bbox_inches='tight')\n",
    "plt.show()"
   ]
  },
  {
   "cell_type": "code",
   "execution_count": 12,
   "metadata": {},
   "outputs": [
    {
     "data": {
      "image/png": "[encoded data removed]",
      "text/plain": [
       "<Figure size 700x500 with 1 Axes>"
      ]
     },
     "metadata": {},
     "output_type": "display_data"
    }
   ],
   "source": [
    "all_auroc_values = [trial.values[0] for trial in study.trials if trial.state == optuna.trial.TrialState.COMPLETE]\n",
    "all_trees = [trial.params['n_estimators'] for trial in study.trials if trial.state == optuna.trial.TrialState.COMPLETE]\n",
    "model_complexity = pd.DataFrame({'Number of trees': all_trees, 'AUROC': all_auroc_values})\n",
    "\n",
    "# visualise aucroc vs. complexity\n",
    "plt.figure(figsize=(7,5))\n",
    "sns.scatterplot(data=model_complexity, x='Number of trees', y='AUROC', color='navy', s=50)\n",
    "\n",
    "plt.title('Performance vs. complexity of model')\n",
    "plt.tight_layout()\n",
    "\n",
    "plt.savefig(f'../figures/python/lightgbm/LightGBM_Classifier_AUROC-vs-Trees.png', dpi=600, bbox_inches='tight')\n",
    "\n",
    "plt.show()"
   ]
  },
  {
   "cell_type": "code",
   "execution_count": 13,
   "metadata": {},
   "outputs": [
    {
     "data": {
      "text/plain": [
       "AUROC\n",
       "0.840    8862\n",
       "0.841    9340\n",
       "0.843    7658\n",
       "0.844    7151\n",
       "0.845    7675\n",
       "0.846    7285\n",
       "0.847    7404\n",
       "0.848    6868\n",
       "0.849    7780\n",
       "0.850    8001\n",
       "0.851    8368\n",
       "0.852    8522\n",
       "0.853    8614\n",
       "0.854    8614\n",
       "0.855    9075\n",
       "0.856    8822\n",
       "0.857    8745\n",
       "0.858    9472\n",
       "0.859    9788\n",
       "0.860    9423\n",
       "Name: Number of trees, dtype: int64"
      ]
     },
     "execution_count": 13,
     "metadata": {},
     "output_type": "execute_result"
    }
   ],
   "source": [
    "model_complexity['AUROC'] = model_complexity['AUROC'].apply(lambda x: '{:.3f}'.format(x))\n",
    "model_complexity.sort_values(by=['AUROC', 'Number of trees'], ascending=False, inplace=True)\n",
    "model_complexity.groupby('AUROC')['Number of trees'].min().tail(20)"
   ]
  },
  {
   "cell_type": "code",
   "execution_count": 14,
   "metadata": {},
   "outputs": [],
   "source": [
    "target_trees = 6863\n",
    "max_auroc = -1\n",
    "desired_trial = None\n",
    "\n",
    "# # Iterate through the completed trials\n",
    "# for trial in study.trials:\n",
    "#     if trial.state == optuna.trial.TrialState.COMPLETE and trial.params['n_estimators'] == target_trees:\n",
    "#         if trial.value > max_auroc:\n",
    "#             max_auroc = trial.value\n",
    "#             desired_trial = trial"
   ]
  },
  {
   "cell_type": "code",
   "execution_count": 15,
   "metadata": {},
   "outputs": [
    {
     "name": "stdout",
     "output_type": "stream",
     "text": [
      "Number of finished trials: 100\n",
      "Best trial:\n",
      "  AUROC: 0.8601230317154164\n",
      "  Params: \n",
      "    reg_alpha: 0.22874115109030496\n",
      "    reg_lambda: 0.7854561284182642\n",
      "    num_leaves: 93\n",
      "    learning_rate: 0.09270708463606236\n",
      "    n_estimators: 9941\n",
      "    colsample_bytree: 0.33406442678952747\n",
      "    subsample: 0.1781788940580592\n"
     ]
    }
   ],
   "source": [
    "if desired_trial:\n",
    "    print(f\"Trial with {target_trees} trees found.\")\n",
    "    print(f\"  AUROC: {desired_trial.value}\")\n",
    "    print(\"  Params: \")\n",
    "    for key, value in desired_trial.params.items():\n",
    "        print(f\"    {key}: {value}\")\n",
    "\n",
    "    # Apply the model with the specific number of trees to X_test, y_test\n",
    "    best_params = desired_trial.params\n",
    "else:\n",
    "    print(f\"Number of finished trials: {len(study.trials)}\")\n",
    "    print(\"Best trial:\")\n",
    "    trial = study.best_trial\n",
    "    print(f\"  AUROC: {trial.value}\")\n",
    "    print(\"  Params: \")\n",
    "    for key, value in trial.params.items():\n",
    "        print(f\"    {key}: {value}\")\n",
    "        \n",
    "    best_params = trial.params"
   ]
  },
  {
   "cell_type": "code",
   "execution_count": 16,
   "metadata": {},
   "outputs": [
    {
     "data": {
      "text/html": [
       "<style>#sk-container-id-1 {color: black;}#sk-container-id-1 pre{padding: 0;}#sk-container-id-1 div.sk-toggleable {background-color: white;}#sk-container-id-1 label.sk-toggleable__label {cursor: pointer;display: block;width: 100%;margin-bottom: 0;padding: 0.3em;box-sizing: border-box;text-align: center;}#sk-container-id-1 label.sk-toggleable__label-arrow:before {content: \"▸\";float: left;margin-right: 0.25em;color: #696969;}#sk-container-id-1 label.sk-toggleable__label-arrow:hover:before {color: black;}#sk-container-id-1 div.sk-estimator:hover label.sk-toggleable__label-arrow:before {color: black;}#sk-container-id-1 div.sk-toggleable__content {max-height: 0;max-width: 0;overflow: hidden;text-align: left;background-color: #f0f8ff;}#sk-container-id-1 div.sk-toggleable__content pre {margin: 0.2em;color: black;border-radius: 0.25em;background-color: #f0f8ff;}#sk-container-id-1 input.sk-toggleable__control:checked~div.sk-toggleable__content {max-height: 200px;max-width: 100%;overflow: auto;}#sk-container-id-1 input.sk-toggleable__control:checked~label.sk-toggleable__label-arrow:before {content: \"▾\";}#sk-container-id-1 div.sk-estimator input.sk-toggleable__control:checked~label.sk-toggleable__label {background-color: #d4ebff;}#sk-container-id-1 div.sk-label input.sk-toggleable__control:checked~label.sk-toggleable__label {background-color: #d4ebff;}#sk-container-id-1 input.sk-hidden--visually {border: 0;clip: rect(1px 1px 1px 1px);clip: rect(1px, 1px, 1px, 1px);height: 1px;margin: -1px;overflow: hidden;padding: 0;position: absolute;width: 1px;}#sk-container-id-1 div.sk-estimator {font-family: monospace;background-color: #f0f8ff;border: 1px dotted black;border-radius: 0.25em;box-sizing: border-box;margin-bottom: 0.5em;}#sk-container-id-1 div.sk-estimator:hover {background-color: #d4ebff;}#sk-container-id-1 div.sk-parallel-item::after {content: \"\";width: 100%;border-bottom: 1px solid gray;flex-grow: 1;}#sk-container-id-1 div.sk-label:hover label.sk-toggleable__label {background-color: #d4ebff;}#sk-container-id-1 div.sk-serial::before {content: \"\";position: absolute;border-left: 1px solid gray;box-sizing: border-box;top: 0;bottom: 0;left: 50%;z-index: 0;}#sk-container-id-1 div.sk-serial {display: flex;flex-direction: column;align-items: center;background-color: white;padding-right: 0.2em;padding-left: 0.2em;position: relative;}#sk-container-id-1 div.sk-item {position: relative;z-index: 1;}#sk-container-id-1 div.sk-parallel {display: flex;align-items: stretch;justify-content: center;background-color: white;position: relative;}#sk-container-id-1 div.sk-item::before, #sk-container-id-1 div.sk-parallel-item::before {content: \"\";position: absolute;border-left: 1px solid gray;box-sizing: border-box;top: 0;bottom: 0;left: 50%;z-index: -1;}#sk-container-id-1 div.sk-parallel-item {display: flex;flex-direction: column;z-index: 1;position: relative;background-color: white;}#sk-container-id-1 div.sk-parallel-item:first-child::after {align-self: flex-end;width: 50%;}#sk-container-id-1 div.sk-parallel-item:last-child::after {align-self: flex-start;width: 50%;}#sk-container-id-1 div.sk-parallel-item:only-child::after {width: 0;}#sk-container-id-1 div.sk-dashed-wrapped {border: 1px dashed gray;margin: 0 0.4em 0.5em 0.4em;box-sizing: border-box;padding-bottom: 0.4em;background-color: white;}#sk-container-id-1 div.sk-label label {font-family: monospace;font-weight: bold;display: inline-block;line-height: 1.2em;}#sk-container-id-1 div.sk-label-container {text-align: center;}#sk-container-id-1 div.sk-container {/* jupyter's `normalize.less` sets `[hidden] { display: none; }` but bootstrap.min.css set `[hidden] { display: none !important; }` so we also need the `!important` here to be able to override the default hidden behavior on the sphinx rendered scikit-learn.org. See: https://github.com/scikit-learn/scikit-learn/issues/21755 */display: inline-block !important;position: relative;}#sk-container-id-1 div.sk-text-repr-fallback {display: none;}</style><div id=\"sk-container-id-1\" class=\"sk-top-container\"><div class=\"sk-text-repr-fallback\"><pre>LGBMClassifier(colsample_bytree=0.33406442678952747, device=&#x27;gpu&#x27;,\n",
       "               learning_rate=0.09270708463606236, metric=&#x27;binary_logloss&#x27;,\n",
       "               n_estimators=9941, num_leaves=93, num_threads=4,\n",
       "               objective=&#x27;binary&#x27;, reg_alpha=0.22874115109030496,\n",
       "               reg_lambda=0.7854561284182642, subsample=0.1781788940580592,\n",
       "               verbosity=1)</pre><b>In a Jupyter environment, please rerun this cell to show the HTML representation or trust the notebook. <br />On GitHub, the HTML representation is unable to render, please try loading this page with nbviewer.org.</b></div><div class=\"sk-container\" hidden><div class=\"sk-item\"><div class=\"sk-estimator sk-toggleable\"><input class=\"sk-toggleable__control sk-hidden--visually\" id=\"sk-estimator-id-1\" type=\"checkbox\" checked><label for=\"sk-estimator-id-1\" class=\"sk-toggleable__label sk-toggleable__label-arrow\">LGBMClassifier</label><div class=\"sk-toggleable__content\"><pre>LGBMClassifier(colsample_bytree=0.33406442678952747, device=&#x27;gpu&#x27;,\n",
       "               learning_rate=0.09270708463606236, metric=&#x27;binary_logloss&#x27;,\n",
       "               n_estimators=9941, num_leaves=93, num_threads=4,\n",
       "               objective=&#x27;binary&#x27;, reg_alpha=0.22874115109030496,\n",
       "               reg_lambda=0.7854561284182642, subsample=0.1781788940580592,\n",
       "               verbosity=1)</pre></div></div></div></div></div>"
      ],
      "text/plain": [
       "LGBMClassifier(colsample_bytree=0.33406442678952747, device='gpu',\n",
       "               learning_rate=0.09270708463606236, metric='binary_logloss',\n",
       "               n_estimators=9941, num_leaves=93, num_threads=4,\n",
       "               objective='binary', reg_alpha=0.22874115109030496,\n",
       "               reg_lambda=0.7854561284182642, subsample=0.1781788940580592,\n",
       "               verbosity=1)"
      ]
     },
     "execution_count": 16,
     "metadata": {},
     "output_type": "execute_result"
    }
   ],
   "source": [
    "best_params[\"objective\"]=\"binary\"\n",
    "best_params[\"metric\"]=\"binary_logloss\"\n",
    "best_params[\"verbosity\"]=1\n",
    "best_params[\"boosting_type\"]=\"gbdt\"\n",
    "best_params[\"device\"]=\"gpu\"\n",
    "best_params[\"num_threads\"]=cpu\n",
    "\n",
    "X_train, y_train, _ = get_data(filename='train', to_numpy = True)\n",
    "X_test, y_test, feature_names = get_data(filename='test', to_numpy = False)\n",
    "\n",
    "best_model = lgb.LGBMClassifier()\n",
    "best_model.set_params(**best_params)"
   ]
  },
  {
   "cell_type": "code",
   "execution_count": 17,
   "metadata": {},
   "outputs": [
    {
     "name": "stdout",
     "output_type": "stream",
     "text": [
      "[LightGBM] [Info] Number of positive: 821866, number of negative: 1055064\n",
      "[LightGBM] [Info] This is the GPU trainer!!\n",
      "[LightGBM] [Info] Total Bins 53008\n",
      "[LightGBM] [Info] Number of data points in the train set: 1876930, number of used features: 640\n",
      "[LightGBM] [Info] Using GPU Device: NVIDIA RTX A6000, Vendor: NVIDIA Corporation\n",
      "[LightGBM] [Info] Compiling OpenCL Kernel with 256 bins...\n",
      "[LightGBM] [Info] GPU programs have been built\n",
      "[LightGBM] [Info] Size of histogram bin entry: 8\n",
      "[LightGBM] [Info] 579 dense feature groups (1038.19 MB) transferred to GPU in 0.392741 secs. 1 sparse feature groups\n",
      "[LightGBM] [Info] [binary:BoostFromScore]: pavg=0.437878 -> initscore=-0.249779\n",
      "[LightGBM] [Info] Start training from score -0.249779\n"
     ]
    },
    {
     "data": {
      "text/html": [
       "<style>#sk-container-id-2 {color: black;}#sk-container-id-2 pre{padding: 0;}#sk-container-id-2 div.sk-toggleable {background-color: white;}#sk-container-id-2 label.sk-toggleable__label {cursor: pointer;display: block;width: 100%;margin-bottom: 0;padding: 0.3em;box-sizing: border-box;text-align: center;}#sk-container-id-2 label.sk-toggleable__label-arrow:before {content: \"▸\";float: left;margin-right: 0.25em;color: #696969;}#sk-container-id-2 label.sk-toggleable__label-arrow:hover:before {color: black;}#sk-container-id-2 div.sk-estimator:hover label.sk-toggleable__label-arrow:before {color: black;}#sk-container-id-2 div.sk-toggleable__content {max-height: 0;max-width: 0;overflow: hidden;text-align: left;background-color: #f0f8ff;}#sk-container-id-2 div.sk-toggleable__content pre {margin: 0.2em;color: black;border-radius: 0.25em;background-color: #f0f8ff;}#sk-container-id-2 input.sk-toggleable__control:checked~div.sk-toggleable__content {max-height: 200px;max-width: 100%;overflow: auto;}#sk-container-id-2 input.sk-toggleable__control:checked~label.sk-toggleable__label-arrow:before {content: \"▾\";}#sk-container-id-2 div.sk-estimator input.sk-toggleable__control:checked~label.sk-toggleable__label {background-color: #d4ebff;}#sk-container-id-2 div.sk-label input.sk-toggleable__control:checked~label.sk-toggleable__label {background-color: #d4ebff;}#sk-container-id-2 input.sk-hidden--visually {border: 0;clip: rect(1px 1px 1px 1px);clip: rect(1px, 1px, 1px, 1px);height: 1px;margin: -1px;overflow: hidden;padding: 0;position: absolute;width: 1px;}#sk-container-id-2 div.sk-estimator {font-family: monospace;background-color: #f0f8ff;border: 1px dotted black;border-radius: 0.25em;box-sizing: border-box;margin-bottom: 0.5em;}#sk-container-id-2 div.sk-estimator:hover {background-color: #d4ebff;}#sk-container-id-2 div.sk-parallel-item::after {content: \"\";width: 100%;border-bottom: 1px solid gray;flex-grow: 1;}#sk-container-id-2 div.sk-label:hover label.sk-toggleable__label {background-color: #d4ebff;}#sk-container-id-2 div.sk-serial::before {content: \"\";position: absolute;border-left: 1px solid gray;box-sizing: border-box;top: 0;bottom: 0;left: 50%;z-index: 0;}#sk-container-id-2 div.sk-serial {display: flex;flex-direction: column;align-items: center;background-color: white;padding-right: 0.2em;padding-left: 0.2em;position: relative;}#sk-container-id-2 div.sk-item {position: relative;z-index: 1;}#sk-container-id-2 div.sk-parallel {display: flex;align-items: stretch;justify-content: center;background-color: white;position: relative;}#sk-container-id-2 div.sk-item::before, #sk-container-id-2 div.sk-parallel-item::before {content: \"\";position: absolute;border-left: 1px solid gray;box-sizing: border-box;top: 0;bottom: 0;left: 50%;z-index: -1;}#sk-container-id-2 div.sk-parallel-item {display: flex;flex-direction: column;z-index: 1;position: relative;background-color: white;}#sk-container-id-2 div.sk-parallel-item:first-child::after {align-self: flex-end;width: 50%;}#sk-container-id-2 div.sk-parallel-item:last-child::after {align-self: flex-start;width: 50%;}#sk-container-id-2 div.sk-parallel-item:only-child::after {width: 0;}#sk-container-id-2 div.sk-dashed-wrapped {border: 1px dashed gray;margin: 0 0.4em 0.5em 0.4em;box-sizing: border-box;padding-bottom: 0.4em;background-color: white;}#sk-container-id-2 div.sk-label label {font-family: monospace;font-weight: bold;display: inline-block;line-height: 1.2em;}#sk-container-id-2 div.sk-label-container {text-align: center;}#sk-container-id-2 div.sk-container {/* jupyter's `normalize.less` sets `[hidden] { display: none; }` but bootstrap.min.css set `[hidden] { display: none !important; }` so we also need the `!important` here to be able to override the default hidden behavior on the sphinx rendered scikit-learn.org. See: https://github.com/scikit-learn/scikit-learn/issues/21755 */display: inline-block !important;position: relative;}#sk-container-id-2 div.sk-text-repr-fallback {display: none;}</style><div id=\"sk-container-id-2\" class=\"sk-top-container\"><div class=\"sk-text-repr-fallback\"><pre>LGBMClassifier(colsample_bytree=0.33406442678952747, device=&#x27;gpu&#x27;,\n",
       "               learning_rate=0.09270708463606236, metric=&#x27;binary_logloss&#x27;,\n",
       "               n_estimators=9941, num_leaves=93, num_threads=4,\n",
       "               objective=&#x27;binary&#x27;, reg_alpha=0.22874115109030496,\n",
       "               reg_lambda=0.7854561284182642, subsample=0.1781788940580592,\n",
       "               verbosity=1)</pre><b>In a Jupyter environment, please rerun this cell to show the HTML representation or trust the notebook. <br />On GitHub, the HTML representation is unable to render, please try loading this page with nbviewer.org.</b></div><div class=\"sk-container\" hidden><div class=\"sk-item\"><div class=\"sk-estimator sk-toggleable\"><input class=\"sk-toggleable__control sk-hidden--visually\" id=\"sk-estimator-id-2\" type=\"checkbox\" checked><label for=\"sk-estimator-id-2\" class=\"sk-toggleable__label sk-toggleable__label-arrow\">LGBMClassifier</label><div class=\"sk-toggleable__content\"><pre>LGBMClassifier(colsample_bytree=0.33406442678952747, device=&#x27;gpu&#x27;,\n",
       "               learning_rate=0.09270708463606236, metric=&#x27;binary_logloss&#x27;,\n",
       "               n_estimators=9941, num_leaves=93, num_threads=4,\n",
       "               objective=&#x27;binary&#x27;, reg_alpha=0.22874115109030496,\n",
       "               reg_lambda=0.7854561284182642, subsample=0.1781788940580592,\n",
       "               verbosity=1)</pre></div></div></div></div></div>"
      ],
      "text/plain": [
       "LGBMClassifier(colsample_bytree=0.33406442678952747, device='gpu',\n",
       "               learning_rate=0.09270708463606236, metric='binary_logloss',\n",
       "               n_estimators=9941, num_leaves=93, num_threads=4,\n",
       "               objective='binary', reg_alpha=0.22874115109030496,\n",
       "               reg_lambda=0.7854561284182642, subsample=0.1781788940580592,\n",
       "               verbosity=1)"
      ]
     },
     "execution_count": 17,
     "metadata": {},
     "output_type": "execute_result"
    }
   ],
   "source": [
    "best_model.fit(X_train, y_train)"
   ]
  },
  {
   "cell_type": "code",
   "execution_count": 18,
   "metadata": {},
   "outputs": [
    {
     "data": {
      "text/plain": [
       "<lightgbm.basic.Booster at 0x7f00a6ddaa60>"
      ]
     },
     "execution_count": 18,
     "metadata": {},
     "output_type": "execute_result"
    }
   ],
   "source": [
    "best_model.booster_.save_model('../data/models/python/lightgbm/best_LGBM_model.txt')"
   ]
  },
  {
   "cell_type": "code",
   "execution_count": 19,
   "metadata": {},
   "outputs": [
    {
     "name": "stdout",
     "output_type": "stream",
     "text": [
      "AUC on test set: 0.8903990882228703\n"
     ]
    }
   ],
   "source": [
    "# Make predictions on the test set\n",
    "y_probs = best_model.predict_proba(X_test)[:, 1]\n",
    "fpr, tpr, thresholds = roc_curve(y_test, y_probs)\n",
    "auroc = auc(fpr, tpr)\n",
    "\n",
    "print(\"AUC on test set:\", auroc)"
   ]
  },
  {
   "cell_type": "code",
   "execution_count": 20,
   "metadata": {},
   "outputs": [],
   "source": [
    "num_features=25"
   ]
  },
  {
   "cell_type": "code",
   "execution_count": 17,
   "metadata": {},
   "outputs": [],
   "source": [
    "# match hex codes\n",
    "group_colors = {\n",
    "    'QM_PARAMETERS': 'salmon',\n",
    "    'G4MAP': 'blue',\n",
    "    'BREAKS': 'purple',\n",
    "    'LONGRANGE_PREPARAMS': 'purple',\n",
    "    'G4_REGEX': 'darkorange',\n",
    "    'SINGLETON': 'brown',\n",
    "    'GC_CONTENT': 'pink',\n",
    "    'GC_COUNT': 'gray',\n",
    "    'KMER_COUNTS': 'olive',\n",
    "    'VIENNA_RNA': 'cornflowerblue',\n",
    "    'DNA_SHAPE': 'deeppink'\n",
    "}\n",
    "\n",
    "df_colnames = pd.read_csv(\"../data/ML_demo/K562_Top2_mediated_DSBs_kmerwindow-5crash_test-TRUEonly_breaks-TRUEkmer-8_seed-41964_zscore_colnames.csv\")\n",
    "df_colnames['hex'] = df_colnames['group'].map(group_colors)\n",
    "\n",
    "X_test, y_test, feature_names = get_data(filename='test', to_numpy = False)\n",
    "\n",
    "feature_importances = best_model.feature_importances_\n",
    "feature_importances = feature_importances / feature_importances.max()\n",
    "feature_importances = pd.DataFrame({\n",
    "    'feature': feature_names, \n",
    "    'importance': feature_importances\n",
    "})\n",
    "feature_importances.sort_values('importance', ascending=False, inplace=True)\n",
    "\n",
    "# find contribution of breakage scores in full table of features\n",
    "cols_group_dict = pd.Series(df_colnames['group'].values, index=df_colnames['columns']).to_dict()\n",
    "feature_importances['group'] = feature_importances['feature'].map(cols_group_dict)\n",
    "\n",
    "# match hex codes\n",
    "cols_hex_dict = pd.Series(\n",
    "    df_colnames['hex'].values, \n",
    "    index=df_colnames['columns']\n",
    ").to_dict()\n",
    "feature_importances['hex'] = feature_importances['feature'].map(cols_hex_dict)\n",
    "\n",
    "all_coefs = feature_importances['importance'].sum()\n",
    "group_contr = feature_importances.groupby('group')['importance'].sum() / all_coefs * 100\n",
    "\n",
    "feature_importances.fillna('#787878', inplace=True)"
   ]
  },
  {
   "cell_type": "code",
   "execution_count": 49,
   "metadata": {},
   "outputs": [
    {
     "data": {
      "text/html": [
       "<div>\n",
       "<style scoped>\n",
       "    .dataframe tbody tr th:only-of-type {\n",
       "        vertical-align: middle;\n",
       "    }\n",
       "\n",
       "    .dataframe tbody tr th {\n",
       "        vertical-align: top;\n",
       "    }\n",
       "\n",
       "    .dataframe thead th {\n",
       "        text-align: right;\n",
       "    }\n",
       "</style>\n",
       "<table border=\"1\" class=\"dataframe\">\n",
       "  <thead>\n",
       "    <tr style=\"text-align: right;\">\n",
       "      <th></th>\n",
       "      <th>index</th>\n",
       "      <th>feature</th>\n",
       "      <th>importance</th>\n",
       "      <th>group</th>\n",
       "      <th>hex</th>\n",
       "    </tr>\n",
       "  </thead>\n",
       "  <tbody>\n",
       "    <tr>\n",
       "      <th>0</th>\n",
       "      <td>65</td>\n",
       "      <td>AsiSI_restriction_enzyme_AID-Diva_cells_LR_sum</td>\n",
       "      <td>1.000000</td>\n",
       "      <td>LONGRANGE_PREPARAMS</td>\n",
       "      <td>purple</td>\n",
       "    </tr>\n",
       "    <tr>\n",
       "      <th>1</th>\n",
       "      <td>119</td>\n",
       "      <td>RPE1_cells_Top2_Loss_VP16_LR_sum</td>\n",
       "      <td>0.765751</td>\n",
       "      <td>LONGRANGE_PREPARAMS</td>\n",
       "      <td>purple</td>\n",
       "    </tr>\n",
       "    <tr>\n",
       "      <th>2</th>\n",
       "      <td>124</td>\n",
       "      <td>Twist_library_C25cl48_cells_LR_sum</td>\n",
       "      <td>0.762652</td>\n",
       "      <td>LONGRANGE_PREPARAMS</td>\n",
       "      <td>purple</td>\n",
       "    </tr>\n",
       "    <tr>\n",
       "      <th>3</th>\n",
       "      <td>115</td>\n",
       "      <td>Nt_BbvCI_restriction_enzyme_K562_cells_NT_LR_sum</td>\n",
       "      <td>0.752530</td>\n",
       "      <td>LONGRANGE_PREPARAMS</td>\n",
       "      <td>purple</td>\n",
       "    </tr>\n",
       "    <tr>\n",
       "      <th>4</th>\n",
       "      <td>90</td>\n",
       "      <td>HCT116_cells_siWRN_WRN_Loss_LR_sum</td>\n",
       "      <td>0.732906</td>\n",
       "      <td>LONGRANGE_PREPARAMS</td>\n",
       "      <td>purple</td>\n",
       "    </tr>\n",
       "    <tr>\n",
       "      <th>5</th>\n",
       "      <td>118</td>\n",
       "      <td>RPE1_cells_Top2_Loss_NT_LR_sum</td>\n",
       "      <td>0.731874</td>\n",
       "      <td>LONGRANGE_PREPARAMS</td>\n",
       "      <td>purple</td>\n",
       "    </tr>\n",
       "    <tr>\n",
       "      <th>6</th>\n",
       "      <td>116</td>\n",
       "      <td>Nt_BbvCI_restriction_enzyme_K562_cells_Sap_LR_sum</td>\n",
       "      <td>0.684156</td>\n",
       "      <td>LONGRANGE_PREPARAMS</td>\n",
       "      <td>purple</td>\n",
       "    </tr>\n",
       "    <tr>\n",
       "      <th>7</th>\n",
       "      <td>105</td>\n",
       "      <td>KM12_cells_siWRN_WRN_Loss_LR_sum</td>\n",
       "      <td>0.658542</td>\n",
       "      <td>LONGRANGE_PREPARAMS</td>\n",
       "      <td>purple</td>\n",
       "    </tr>\n",
       "    <tr>\n",
       "      <th>8</th>\n",
       "      <td>117</td>\n",
       "      <td>Recombination_rates_LR_sum</td>\n",
       "      <td>0.654617</td>\n",
       "      <td>LONGRANGE_PREPARAMS</td>\n",
       "      <td>purple</td>\n",
       "    </tr>\n",
       "    <tr>\n",
       "      <th>9</th>\n",
       "      <td>103</td>\n",
       "      <td>KM12_cells_APH-ATRI_WRN_Loss_LR_sum</td>\n",
       "      <td>0.645734</td>\n",
       "      <td>LONGRANGE_PREPARAMS</td>\n",
       "      <td>purple</td>\n",
       "    </tr>\n",
       "    <tr>\n",
       "      <th>10</th>\n",
       "      <td>67</td>\n",
       "      <td>Autoimmune_Systemic_Lupus_LR_sum</td>\n",
       "      <td>0.636645</td>\n",
       "      <td>LONGRANGE_PREPARAMS</td>\n",
       "      <td>purple</td>\n",
       "    </tr>\n",
       "    <tr>\n",
       "      <th>11</th>\n",
       "      <td>123</td>\n",
       "      <td>TK6_cells_Top2_ETO_LR_sum</td>\n",
       "      <td>0.612683</td>\n",
       "      <td>LONGRANGE_PREPARAMS</td>\n",
       "      <td>purple</td>\n",
       "    </tr>\n",
       "    <tr>\n",
       "      <th>12</th>\n",
       "      <td>91</td>\n",
       "      <td>Healthy_LR_sum</td>\n",
       "      <td>0.610411</td>\n",
       "      <td>LONGRANGE_PREPARAMS</td>\n",
       "      <td>purple</td>\n",
       "    </tr>\n",
       "    <tr>\n",
       "      <th>13</th>\n",
       "      <td>120</td>\n",
       "      <td>RPE1_cells_Top2_WT_NT_LR_sum</td>\n",
       "      <td>0.598843</td>\n",
       "      <td>LONGRANGE_PREPARAMS</td>\n",
       "      <td>purple</td>\n",
       "    </tr>\n",
       "    <tr>\n",
       "      <th>14</th>\n",
       "      <td>86</td>\n",
       "      <td>CD34_cells_Top2_ETO_LR_sum</td>\n",
       "      <td>0.584590</td>\n",
       "      <td>LONGRANGE_PREPARAMS</td>\n",
       "      <td>purple</td>\n",
       "    </tr>\n",
       "    <tr>\n",
       "      <th>15</th>\n",
       "      <td>93</td>\n",
       "      <td>K562_cells_G5_48h_LR_sum</td>\n",
       "      <td>0.565586</td>\n",
       "      <td>LONGRANGE_PREPARAMS</td>\n",
       "      <td>purple</td>\n",
       "    </tr>\n",
       "    <tr>\n",
       "      <th>16</th>\n",
       "      <td>121</td>\n",
       "      <td>RPE1_cells_Top2_WT_VP16_LR_sum</td>\n",
       "      <td>0.563107</td>\n",
       "      <td>LONGRANGE_PREPARAMS</td>\n",
       "      <td>purple</td>\n",
       "    </tr>\n",
       "    <tr>\n",
       "      <th>17</th>\n",
       "      <td>312</td>\n",
       "      <td>ATATA</td>\n",
       "      <td>0.561454</td>\n",
       "      <td>KMER_COUNTS</td>\n",
       "      <td>olive</td>\n",
       "    </tr>\n",
       "    <tr>\n",
       "      <th>18</th>\n",
       "      <td>89</td>\n",
       "      <td>HCT116_cells_shWRN_WRN_Loss_LR_sum</td>\n",
       "      <td>0.558562</td>\n",
       "      <td>LONGRANGE_PREPARAMS</td>\n",
       "      <td>purple</td>\n",
       "    </tr>\n",
       "    <tr>\n",
       "      <th>19</th>\n",
       "      <td>102</td>\n",
       "      <td>K562_cells_Top2_ETO_LR_sum</td>\n",
       "      <td>0.551952</td>\n",
       "      <td>LONGRANGE_PREPARAMS</td>\n",
       "      <td>purple</td>\n",
       "    </tr>\n",
       "    <tr>\n",
       "      <th>20</th>\n",
       "      <td>107</td>\n",
       "      <td>MDA-MB-231_cells_fork-collapse_DMSO_LR_sum</td>\n",
       "      <td>0.548234</td>\n",
       "      <td>LONGRANGE_PREPARAMS</td>\n",
       "      <td>purple</td>\n",
       "    </tr>\n",
       "    <tr>\n",
       "      <th>21</th>\n",
       "      <td>70</td>\n",
       "      <td>Caco2_cells_colibactin_pos_LR_sum</td>\n",
       "      <td>0.546375</td>\n",
       "      <td>LONGRANGE_PREPARAMS</td>\n",
       "      <td>purple</td>\n",
       "    </tr>\n",
       "    <tr>\n",
       "      <th>22</th>\n",
       "      <td>87</td>\n",
       "      <td>Denisovan_LR_sum</td>\n",
       "      <td>0.538938</td>\n",
       "      <td>LONGRANGE_PREPARAMS</td>\n",
       "      <td>purple</td>\n",
       "    </tr>\n",
       "    <tr>\n",
       "      <th>23</th>\n",
       "      <td>80</td>\n",
       "      <td>Cancer_Pancreatic_LR_sum</td>\n",
       "      <td>0.537492</td>\n",
       "      <td>LONGRANGE_PREPARAMS</td>\n",
       "      <td>purple</td>\n",
       "    </tr>\n",
       "    <tr>\n",
       "      <th>24</th>\n",
       "      <td>71</td>\n",
       "      <td>Caco2_cells_ETO_LR_sum</td>\n",
       "      <td>0.535427</td>\n",
       "      <td>LONGRANGE_PREPARAMS</td>\n",
       "      <td>purple</td>\n",
       "    </tr>\n",
       "    <tr>\n",
       "      <th>25</th>\n",
       "      <td>69</td>\n",
       "      <td>Caco2_cells_colibactin_minus_LR_sum</td>\n",
       "      <td>0.531502</td>\n",
       "      <td>LONGRANGE_PREPARAMS</td>\n",
       "      <td>purple</td>\n",
       "    </tr>\n",
       "    <tr>\n",
       "      <th>26</th>\n",
       "      <td>75</td>\n",
       "      <td>Cancer_Esophageal_LR_sum</td>\n",
       "      <td>0.508366</td>\n",
       "      <td>LONGRANGE_PREPARAMS</td>\n",
       "      <td>purple</td>\n",
       "    </tr>\n",
       "    <tr>\n",
       "      <th>27</th>\n",
       "      <td>194</td>\n",
       "      <td>ACACA</td>\n",
       "      <td>0.506300</td>\n",
       "      <td>KMER_COUNTS</td>\n",
       "      <td>olive</td>\n",
       "    </tr>\n",
       "    <tr>\n",
       "      <th>28</th>\n",
       "      <td>104</td>\n",
       "      <td>KM12_cells_shWRN_WRN_Loss_LR_sum</td>\n",
       "      <td>0.499484</td>\n",
       "      <td>LONGRANGE_PREPARAMS</td>\n",
       "      <td>purple</td>\n",
       "    </tr>\n",
       "    <tr>\n",
       "      <th>29</th>\n",
       "      <td>85</td>\n",
       "      <td>CD34_cells_Top2_DMSO_LR_sum</td>\n",
       "      <td>0.499070</td>\n",
       "      <td>LONGRANGE_PREPARAMS</td>\n",
       "      <td>purple</td>\n",
       "    </tr>\n",
       "    <tr>\n",
       "      <th>30</th>\n",
       "      <td>365</td>\n",
       "      <td>CACAC</td>\n",
       "      <td>0.494319</td>\n",
       "      <td>KMER_COUNTS</td>\n",
       "      <td>olive</td>\n",
       "    </tr>\n",
       "    <tr>\n",
       "      <th>31</th>\n",
       "      <td>113</td>\n",
       "      <td>Neuronal_cells_LR_sum</td>\n",
       "      <td>0.486676</td>\n",
       "      <td>LONGRANGE_PREPARAMS</td>\n",
       "      <td>purple</td>\n",
       "    </tr>\n",
       "    <tr>\n",
       "      <th>32</th>\n",
       "      <td>256</td>\n",
       "      <td>AGAGA</td>\n",
       "      <td>0.483371</td>\n",
       "      <td>KMER_COUNTS</td>\n",
       "      <td>olive</td>\n",
       "    </tr>\n",
       "    <tr>\n",
       "      <th>33</th>\n",
       "      <td>101</td>\n",
       "      <td>K562_cells_Top2_DMSO_LR_sum</td>\n",
       "      <td>0.481099</td>\n",
       "      <td>LONGRANGE_PREPARAMS</td>\n",
       "      <td>purple</td>\n",
       "    </tr>\n",
       "    <tr>\n",
       "      <th>34</th>\n",
       "      <td>111</td>\n",
       "      <td>Neandertal_Vindija_LR_sum</td>\n",
       "      <td>0.480066</td>\n",
       "      <td>LONGRANGE_PREPARAMS</td>\n",
       "      <td>purple</td>\n",
       "    </tr>\n",
       "    <tr>\n",
       "      <th>35</th>\n",
       "      <td>110</td>\n",
       "      <td>Neandertal_Ust_Ishim_LR_sum</td>\n",
       "      <td>0.463541</td>\n",
       "      <td>LONGRANGE_PREPARAMS</td>\n",
       "      <td>purple</td>\n",
       "    </tr>\n",
       "    <tr>\n",
       "      <th>36</th>\n",
       "      <td>95</td>\n",
       "      <td>K562_cells_Imatinib_48h_LR_sum</td>\n",
       "      <td>0.463541</td>\n",
       "      <td>LONGRANGE_PREPARAMS</td>\n",
       "      <td>purple</td>\n",
       "    </tr>\n",
       "    <tr>\n",
       "      <th>37</th>\n",
       "      <td>109</td>\n",
       "      <td>Neandertal_Chagyrskaya_LR_sum</td>\n",
       "      <td>0.461888</td>\n",
       "      <td>LONGRANGE_PREPARAMS</td>\n",
       "      <td>purple</td>\n",
       "    </tr>\n",
       "    <tr>\n",
       "      <th>38</th>\n",
       "      <td>108</td>\n",
       "      <td>Neandertal_Altai_LR_sum</td>\n",
       "      <td>0.456724</td>\n",
       "      <td>LONGRANGE_PREPARAMS</td>\n",
       "      <td>purple</td>\n",
       "    </tr>\n",
       "    <tr>\n",
       "      <th>39</th>\n",
       "      <td>128</td>\n",
       "      <td>AAAAA</td>\n",
       "      <td>0.456311</td>\n",
       "      <td>KMER_COUNTS</td>\n",
       "      <td>olive</td>\n",
       "    </tr>\n",
       "    <tr>\n",
       "      <th>40</th>\n",
       "      <td>112</td>\n",
       "      <td>Nebulisation_LR_sum</td>\n",
       "      <td>0.455484</td>\n",
       "      <td>LONGRANGE_PREPARAMS</td>\n",
       "      <td>purple</td>\n",
       "    </tr>\n",
       "    <tr>\n",
       "      <th>41</th>\n",
       "      <td>97</td>\n",
       "      <td>K562_cells_SN_48h_LR_sum</td>\n",
       "      <td>0.454865</td>\n",
       "      <td>LONGRANGE_PREPARAMS</td>\n",
       "      <td>purple</td>\n",
       "    </tr>\n",
       "    <tr>\n",
       "      <th>42</th>\n",
       "      <td>99</td>\n",
       "      <td>K562_cells_Talazoparib_48h_LR_sum</td>\n",
       "      <td>0.453832</td>\n",
       "      <td>LONGRANGE_PREPARAMS</td>\n",
       "      <td>purple</td>\n",
       "    </tr>\n",
       "    <tr>\n",
       "      <th>43</th>\n",
       "      <td>125</td>\n",
       "      <td>Ultrasonication_LR_sum</td>\n",
       "      <td>0.451560</td>\n",
       "      <td>LONGRANGE_PREPARAMS</td>\n",
       "      <td>purple</td>\n",
       "    </tr>\n",
       "    <tr>\n",
       "      <th>44</th>\n",
       "      <td>122</td>\n",
       "      <td>TK6_cells_Top2_DMSO_LR_sum</td>\n",
       "      <td>0.445363</td>\n",
       "      <td>LONGRANGE_PREPARAMS</td>\n",
       "      <td>purple</td>\n",
       "    </tr>\n",
       "    <tr>\n",
       "      <th>45</th>\n",
       "      <td>127</td>\n",
       "      <td>GC_content</td>\n",
       "      <td>0.439992</td>\n",
       "      <td>#787878</td>\n",
       "      <td>#787878</td>\n",
       "    </tr>\n",
       "    <tr>\n",
       "      <th>46</th>\n",
       "      <td>638</td>\n",
       "      <td>TTAAA</td>\n",
       "      <td>0.437926</td>\n",
       "      <td>KMER_COUNTS</td>\n",
       "      <td>olive</td>\n",
       "    </tr>\n",
       "    <tr>\n",
       "      <th>47</th>\n",
       "      <td>495</td>\n",
       "      <td>CTCTC</td>\n",
       "      <td>0.436480</td>\n",
       "      <td>KMER_COUNTS</td>\n",
       "      <td>olive</td>\n",
       "    </tr>\n",
       "    <tr>\n",
       "      <th>48</th>\n",
       "      <td>175</td>\n",
       "      <td>AATAA</td>\n",
       "      <td>0.434208</td>\n",
       "      <td>KMER_COUNTS</td>\n",
       "      <td>olive</td>\n",
       "    </tr>\n",
       "    <tr>\n",
       "      <th>49</th>\n",
       "      <td>160</td>\n",
       "      <td>AAGAA</td>\n",
       "      <td>0.432555</td>\n",
       "      <td>KMER_COUNTS</td>\n",
       "      <td>olive</td>\n",
       "    </tr>\n",
       "  </tbody>\n",
       "</table>\n",
       "</div>"
      ],
      "text/plain": [
       "    index                                            feature  importance  \\\n",
       "0      65     AsiSI_restriction_enzyme_AID-Diva_cells_LR_sum    1.000000   \n",
       "1     119                   RPE1_cells_Top2_Loss_VP16_LR_sum    0.765751   \n",
       "2     124                 Twist_library_C25cl48_cells_LR_sum    0.762652   \n",
       "3     115   Nt_BbvCI_restriction_enzyme_K562_cells_NT_LR_sum    0.752530   \n",
       "4      90                 HCT116_cells_siWRN_WRN_Loss_LR_sum    0.732906   \n",
       "5     118                     RPE1_cells_Top2_Loss_NT_LR_sum    0.731874   \n",
       "6     116  Nt_BbvCI_restriction_enzyme_K562_cells_Sap_LR_sum    0.684156   \n",
       "7     105                   KM12_cells_siWRN_WRN_Loss_LR_sum    0.658542   \n",
       "8     117                         Recombination_rates_LR_sum    0.654617   \n",
       "9     103                KM12_cells_APH-ATRI_WRN_Loss_LR_sum    0.645734   \n",
       "10     67                   Autoimmune_Systemic_Lupus_LR_sum    0.636645   \n",
       "11    123                          TK6_cells_Top2_ETO_LR_sum    0.612683   \n",
       "12     91                                     Healthy_LR_sum    0.610411   \n",
       "13    120                       RPE1_cells_Top2_WT_NT_LR_sum    0.598843   \n",
       "14     86                         CD34_cells_Top2_ETO_LR_sum    0.584590   \n",
       "15     93                           K562_cells_G5_48h_LR_sum    0.565586   \n",
       "16    121                     RPE1_cells_Top2_WT_VP16_LR_sum    0.563107   \n",
       "17    312                                              ATATA    0.561454   \n",
       "18     89                 HCT116_cells_shWRN_WRN_Loss_LR_sum    0.558562   \n",
       "19    102                         K562_cells_Top2_ETO_LR_sum    0.551952   \n",
       "20    107         MDA-MB-231_cells_fork-collapse_DMSO_LR_sum    0.548234   \n",
       "21     70                  Caco2_cells_colibactin_pos_LR_sum    0.546375   \n",
       "22     87                                   Denisovan_LR_sum    0.538938   \n",
       "23     80                           Cancer_Pancreatic_LR_sum    0.537492   \n",
       "24     71                             Caco2_cells_ETO_LR_sum    0.535427   \n",
       "25     69                Caco2_cells_colibactin_minus_LR_sum    0.531502   \n",
       "26     75                           Cancer_Esophageal_LR_sum    0.508366   \n",
       "27    194                                              ACACA    0.506300   \n",
       "28    104                   KM12_cells_shWRN_WRN_Loss_LR_sum    0.499484   \n",
       "29     85                        CD34_cells_Top2_DMSO_LR_sum    0.499070   \n",
       "30    365                                              CACAC    0.494319   \n",
       "31    113                              Neuronal_cells_LR_sum    0.486676   \n",
       "32    256                                              AGAGA    0.483371   \n",
       "33    101                        K562_cells_Top2_DMSO_LR_sum    0.481099   \n",
       "34    111                          Neandertal_Vindija_LR_sum    0.480066   \n",
       "35    110                        Neandertal_Ust_Ishim_LR_sum    0.463541   \n",
       "36     95                     K562_cells_Imatinib_48h_LR_sum    0.463541   \n",
       "37    109                      Neandertal_Chagyrskaya_LR_sum    0.461888   \n",
       "38    108                            Neandertal_Altai_LR_sum    0.456724   \n",
       "39    128                                              AAAAA    0.456311   \n",
       "40    112                                Nebulisation_LR_sum    0.455484   \n",
       "41     97                           K562_cells_SN_48h_LR_sum    0.454865   \n",
       "42     99                  K562_cells_Talazoparib_48h_LR_sum    0.453832   \n",
       "43    125                             Ultrasonication_LR_sum    0.451560   \n",
       "44    122                         TK6_cells_Top2_DMSO_LR_sum    0.445363   \n",
       "45    127                                         GC_content    0.439992   \n",
       "46    638                                              TTAAA    0.437926   \n",
       "47    495                                              CTCTC    0.436480   \n",
       "48    175                                              AATAA    0.434208   \n",
       "49    160                                              AAGAA    0.432555   \n",
       "\n",
       "                  group      hex  \n",
       "0   LONGRANGE_PREPARAMS   purple  \n",
       "1   LONGRANGE_PREPARAMS   purple  \n",
       "2   LONGRANGE_PREPARAMS   purple  \n",
       "3   LONGRANGE_PREPARAMS   purple  \n",
       "4   LONGRANGE_PREPARAMS   purple  \n",
       "5   LONGRANGE_PREPARAMS   purple  \n",
       "6   LONGRANGE_PREPARAMS   purple  \n",
       "7   LONGRANGE_PREPARAMS   purple  \n",
       "8   LONGRANGE_PREPARAMS   purple  \n",
       "9   LONGRANGE_PREPARAMS   purple  \n",
       "10  LONGRANGE_PREPARAMS   purple  \n",
       "11  LONGRANGE_PREPARAMS   purple  \n",
       "12  LONGRANGE_PREPARAMS   purple  \n",
       "13  LONGRANGE_PREPARAMS   purple  \n",
       "14  LONGRANGE_PREPARAMS   purple  \n",
       "15  LONGRANGE_PREPARAMS   purple  \n",
       "16  LONGRANGE_PREPARAMS   purple  \n",
       "17          KMER_COUNTS    olive  \n",
       "18  LONGRANGE_PREPARAMS   purple  \n",
       "19  LONGRANGE_PREPARAMS   purple  \n",
       "20  LONGRANGE_PREPARAMS   purple  \n",
       "21  LONGRANGE_PREPARAMS   purple  \n",
       "22  LONGRANGE_PREPARAMS   purple  \n",
       "23  LONGRANGE_PREPARAMS   purple  \n",
       "24  LONGRANGE_PREPARAMS   purple  \n",
       "25  LONGRANGE_PREPARAMS   purple  \n",
       "26  LONGRANGE_PREPARAMS   purple  \n",
       "27          KMER_COUNTS    olive  \n",
       "28  LONGRANGE_PREPARAMS   purple  \n",
       "29  LONGRANGE_PREPARAMS   purple  \n",
       "30          KMER_COUNTS    olive  \n",
       "31  LONGRANGE_PREPARAMS   purple  \n",
       "32          KMER_COUNTS    olive  \n",
       "33  LONGRANGE_PREPARAMS   purple  \n",
       "34  LONGRANGE_PREPARAMS   purple  \n",
       "35  LONGRANGE_PREPARAMS   purple  \n",
       "36  LONGRANGE_PREPARAMS   purple  \n",
       "37  LONGRANGE_PREPARAMS   purple  \n",
       "38  LONGRANGE_PREPARAMS   purple  \n",
       "39          KMER_COUNTS    olive  \n",
       "40  LONGRANGE_PREPARAMS   purple  \n",
       "41  LONGRANGE_PREPARAMS   purple  \n",
       "42  LONGRANGE_PREPARAMS   purple  \n",
       "43  LONGRANGE_PREPARAMS   purple  \n",
       "44  LONGRANGE_PREPARAMS   purple  \n",
       "45              #787878  #787878  \n",
       "46          KMER_COUNTS    olive  \n",
       "47          KMER_COUNTS    olive  \n",
       "48          KMER_COUNTS    olive  \n",
       "49          KMER_COUNTS    olive  "
      ]
     },
     "execution_count": 49,
     "metadata": {},
     "output_type": "execute_result"
    }
   ],
   "source": [
    "feature_importances.reset_index().head(50)"
   ]
  },
  {
   "cell_type": "code",
   "execution_count": null,
   "metadata": {},
   "outputs": [],
   "source": [
    "feature_importances.to_csv(\n",
    "    '../data/models/python/lightgbm/best_LGBM_model_feature_importance.csv', \n",
    "    index=False\n",
    ")\n",
    "pd.DataFrame({'TPR': tpr, 'FPR': fpr}).to_csv(\n",
    "    '../data/models/python/lightgbm/best_LGBM_model_ROC_curve.csv', \n",
    "    index=False\n",
    ")"
   ]
  },
  {
   "cell_type": "code",
   "execution_count": 40,
   "metadata": {},
   "outputs": [],
   "source": [
    "feature_importances = feature_importances.head(num_features)"
   ]
  },
  {
   "cell_type": "code",
   "execution_count": 41,
   "metadata": {},
   "outputs": [
    {
     "data": {
      "image/png": "[encoded data removed]",
      "text/plain": [
       "<Figure size 1400x600 with 2 Axes>"
      ]
     },
     "metadata": {},
     "output_type": "display_data"
    }
   ],
   "source": [
    "# Set up the matplotlib figure\n",
    "fig, axs = plt.subplots(1, 2, figsize=(14, 6))\n",
    "\n",
    "# Plot AUROC Curve\n",
    "ax1 = axs[0]\n",
    "ax1.plot(fpr, tpr, color='darkorange', lw=2, label='ROC curve (area = 0.90)')\n",
    "ax1.plot([0, 1], [0, 1], color='grey', lw=2, linestyle='--')\n",
    "ax1.set_xlim([0.0, 1.0])\n",
    "ax1.set_ylim([0.0, 1.05])\n",
    "ax1.set_xlabel('False Positive Rate')\n",
    "ax1.set_ylabel('True Positive Rate')\n",
    "ax1.set_title('Receiver Operating Characteristic')\n",
    "ax1.legend(loc=\"lower right\")\n",
    "\n",
    "# Plot Feature Importance (Horizontal Lollipop plot)\n",
    "ax2 = axs[1]\n",
    "y_positions = range(len(feature_importances))\n",
    "ax2.hlines(y=y_positions, xmin=0, xmax=feature_importances['importance'], color='grey')\n",
    "ax2.scatter(feature_importances['importance'], y_positions, color='#787878', s=100)\n",
    "ax2.set_yticks(y_positions)\n",
    "ax2.set_yticklabels(feature_importances['feature'])\n",
    "\n",
    "# Highest importance at the top\n",
    "ax2.invert_yaxis()\n",
    "ax2.set_title(f'Top {num_features} Scaled LightGBM Feature Importances')\n",
    "ax2.set_xlabel('Feature Importance Score (Scaled)')\n",
    "\n",
    "# Coloring y-axis labels based on hex color in the table\n",
    "for index, label in enumerate(plt.gca().get_yticklabels()):\n",
    "    hex_color = feature_importances.iloc[index]['hex']\n",
    "    label.set_color(hex_color)\n",
    "\n",
    "for i in range(len(axs)):\n",
    "    axs[i].spines['top'].set_visible(False)\n",
    "    axs[i].spines['right'].set_visible(False)\n",
    "\n",
    "plt.tight_layout()\n",
    "fig.savefig(f'../figures/python/lightgbm/LightGBM_Classifier.pdf', dpi=600, bbox_inches='tight')\n",
    "plt.show()"
   ]
  },
  {
   "cell_type": "code",
   "execution_count": 43,
   "metadata": {},
   "outputs": [],
   "source": [
    "def find_threshold_for_fpr(fpr, tpr, thresholds, target_fpr=0.2):\n",
    "    idx = np.argmin(np.abs(fpr - target_fpr))\n",
    "    return thresholds[idx], fpr[idx], tpr[idx]"
   ]
  },
  {
   "cell_type": "code",
   "execution_count": 44,
   "metadata": {},
   "outputs": [
    {
     "data": {
      "text/html": [
       "<div>\n",
       "<style scoped>\n",
       "    .dataframe tbody tr th:only-of-type {\n",
       "        vertical-align: middle;\n",
       "    }\n",
       "\n",
       "    .dataframe tbody tr th {\n",
       "        vertical-align: top;\n",
       "    }\n",
       "\n",
       "    .dataframe thead th {\n",
       "        text-align: right;\n",
       "    }\n",
       "</style>\n",
       "<table border=\"1\" class=\"dataframe\">\n",
       "  <thead>\n",
       "    <tr style=\"text-align: right;\">\n",
       "      <th></th>\n",
       "      <th>threshold</th>\n",
       "      <th>FPR</th>\n",
       "      <th>TPR</th>\n",
       "      <th>TPR_FPR_ratio</th>\n",
       "    </tr>\n",
       "  </thead>\n",
       "  <tbody>\n",
       "    <tr>\n",
       "      <th>0</th>\n",
       "      <td>0.944715</td>\n",
       "      <td>0.001</td>\n",
       "      <td>0.134947</td>\n",
       "      <td>134.947065</td>\n",
       "    </tr>\n",
       "    <tr>\n",
       "      <th>1</th>\n",
       "      <td>0.876269</td>\n",
       "      <td>0.005</td>\n",
       "      <td>0.245827</td>\n",
       "      <td>49.165453</td>\n",
       "    </tr>\n",
       "    <tr>\n",
       "      <th>2</th>\n",
       "      <td>0.82554</td>\n",
       "      <td>0.01</td>\n",
       "      <td>0.315864</td>\n",
       "      <td>31.586449</td>\n",
       "    </tr>\n",
       "    <tr>\n",
       "      <th>3</th>\n",
       "      <td>0.621225</td>\n",
       "      <td>0.05</td>\n",
       "      <td>0.555804</td>\n",
       "      <td>11.116070</td>\n",
       "    </tr>\n",
       "  </tbody>\n",
       "</table>\n",
       "</div>"
      ],
      "text/plain": [
       "  threshold    FPR       TPR  TPR_FPR_ratio\n",
       "0  0.944715  0.001  0.134947     134.947065\n",
       "1  0.876269  0.005  0.245827      49.165453\n",
       "2   0.82554   0.01  0.315864      31.586449\n",
       "3  0.621225   0.05  0.555804      11.116070"
      ]
     },
     "execution_count": 44,
     "metadata": {},
     "output_type": "execute_result"
    }
   ],
   "source": [
    "thresholds_df = pd.DataFrame(columns=[\"threshold\", \"FPR\", \"TPR\"])\n",
    "target_fprs = [0.001, 0.005, 0.01, 0.05]\n",
    "\n",
    "for t_fpr in target_fprs:\n",
    "    threshold, actual_fpr, TPR = find_threshold_for_fpr(fpr, tpr, thresholds, t_fpr)\n",
    "    thresholds_df = thresholds_df.append({\n",
    "        \"threshold\": threshold, \n",
    "        \"FPR\": t_fpr, \n",
    "        \"TPR\": TPR,\n",
    "        'TPR_FPR_ratio': TPR / t_fpr\n",
    "    }, ignore_index=True)\n",
    "    \n",
    "thresholds_df"
   ]
  },
  {
   "cell_type": "code",
   "execution_count": 45,
   "metadata": {},
   "outputs": [],
   "source": [
    "thresholds_df.to_csv(\n",
    "    '../data/models/python/lightgbm/best_LGBM_model_thresholds.csv', \n",
    "    index=False\n",
    ")"
   ]
  }
 ],
 "metadata": {
  "kernelspec": {
   "display_name": "myenv",
   "language": "python",
   "name": "myenv"
  },
  "language_info": {
   "codemirror_mode": {
    "name": "ipython",
    "version": 3
   },
   "file_extension": ".py",
   "mimetype": "text/x-python",
   "name": "python",
   "nbconvert_exporter": "python",
   "pygments_lexer": "ipython3",
   "version": "3.9.12"
  },
  "vscode": {
   "interpreter": {
    "hash": "88d3aeafbdfe52dad54afc2049386aadb8a16e485001f7a92ebb8de3a17b4cf0"
   }
  }
 },
 "nbformat": 4,
 "nbformat_minor": 2
}
